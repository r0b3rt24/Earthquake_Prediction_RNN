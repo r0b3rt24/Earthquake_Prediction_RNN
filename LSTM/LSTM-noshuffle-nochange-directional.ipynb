{
 "cells": [
  {
   "cell_type": "markdown",
   "metadata": {},
   "source": [
    "## Simple EDA to understand the dataset\n",
    "- whats in our dataset\n",
    "- what do they look like"
   ]
  },
  {
   "cell_type": "code",
   "execution_count": 1,
   "metadata": {},
   "outputs": [
    {
     "name": "stderr",
     "output_type": "stream",
     "text": [
      "Using TensorFlow backend.\n",
      "/Users/lynette/opt/anaconda3/lib/python3.7/site-packages/tensorflow/python/framework/dtypes.py:526: FutureWarning: Passing (type, 1) or '1type' as a synonym of type is deprecated; in a future version of numpy, it will be understood as (type, (1,)) / '(1,)type'.\n",
      "  _np_qint8 = np.dtype([(\"qint8\", np.int8, 1)])\n",
      "/Users/lynette/opt/anaconda3/lib/python3.7/site-packages/tensorflow/python/framework/dtypes.py:527: FutureWarning: Passing (type, 1) or '1type' as a synonym of type is deprecated; in a future version of numpy, it will be understood as (type, (1,)) / '(1,)type'.\n",
      "  _np_quint8 = np.dtype([(\"quint8\", np.uint8, 1)])\n",
      "/Users/lynette/opt/anaconda3/lib/python3.7/site-packages/tensorflow/python/framework/dtypes.py:528: FutureWarning: Passing (type, 1) or '1type' as a synonym of type is deprecated; in a future version of numpy, it will be understood as (type, (1,)) / '(1,)type'.\n",
      "  _np_qint16 = np.dtype([(\"qint16\", np.int16, 1)])\n",
      "/Users/lynette/opt/anaconda3/lib/python3.7/site-packages/tensorflow/python/framework/dtypes.py:529: FutureWarning: Passing (type, 1) or '1type' as a synonym of type is deprecated; in a future version of numpy, it will be understood as (type, (1,)) / '(1,)type'.\n",
      "  _np_quint16 = np.dtype([(\"quint16\", np.uint16, 1)])\n",
      "/Users/lynette/opt/anaconda3/lib/python3.7/site-packages/tensorflow/python/framework/dtypes.py:530: FutureWarning: Passing (type, 1) or '1type' as a synonym of type is deprecated; in a future version of numpy, it will be understood as (type, (1,)) / '(1,)type'.\n",
      "  _np_qint32 = np.dtype([(\"qint32\", np.int32, 1)])\n",
      "/Users/lynette/opt/anaconda3/lib/python3.7/site-packages/tensorflow/python/framework/dtypes.py:535: FutureWarning: Passing (type, 1) or '1type' as a synonym of type is deprecated; in a future version of numpy, it will be understood as (type, (1,)) / '(1,)type'.\n",
      "  np_resource = np.dtype([(\"resource\", np.ubyte, 1)])\n"
     ]
    }
   ],
   "source": [
    "import pandas as pd\n",
    "import numpy as np\n",
    "import keras"
   ]
  },
  {
   "cell_type": "code",
   "execution_count": 2,
   "metadata": {},
   "outputs": [
    {
     "name": "stdout",
     "output_type": "stream",
     "text": [
      "CPU times: user 1min 8s, sys: 14 s, total: 1min 22s\n",
      "Wall time: 1min 16s\n"
     ]
    }
   ],
   "source": [
    "%%time\n",
    "train = pd.read_csv('../data/train.csv', dtype={'acoustic_data': np.int16, 'time_to_failure': np.float32})\n",
    "# note: this process took 2min 10scs on my computer"
   ]
  },
  {
   "cell_type": "code",
   "execution_count": 3,
   "metadata": {},
   "outputs": [],
   "source": [
    "train_df = train"
   ]
  },
  {
   "cell_type": "code",
   "execution_count": 2,
   "metadata": {},
   "outputs": [
    {
     "ename": "NameError",
     "evalue": "name 'train_df' is not defined",
     "output_type": "error",
     "traceback": [
      "\u001b[0;31m---------------------------------------------------------------------------\u001b[0m",
      "\u001b[0;31mNameError\u001b[0m                                 Traceback (most recent call last)",
      "\u001b[0;32m<ipython-input-2-193753be380d>\u001b[0m in \u001b[0;36m<module>\u001b[0;34m\u001b[0m\n\u001b[0;32m----> 1\u001b[0;31m \u001b[0mtrain_df\u001b[0m\u001b[0;34m.\u001b[0m\u001b[0mhead\u001b[0m\u001b[0;34m(\u001b[0m\u001b[0;34m)\u001b[0m\u001b[0;34m\u001b[0m\u001b[0;34m\u001b[0m\u001b[0m\n\u001b[0m",
      "\u001b[0;31mNameError\u001b[0m: name 'train_df' is not defined"
     ]
    }
   ],
   "source": [
    "train_df.head()"
   ]
  },
  {
   "cell_type": "code",
   "execution_count": 16,
   "metadata": {},
   "outputs": [
    {
     "data": {
      "text/plain": [
       "(629145480, 2)"
      ]
     },
     "execution_count": 16,
     "metadata": {},
     "output_type": "execute_result"
    }
   ],
   "source": [
    "train_df.shape"
   ]
  },
  {
   "cell_type": "markdown",
   "metadata": {},
   "source": [
    "## Calculate aggregated features"
   ]
  },
  {
   "cell_type": "markdown",
   "metadata": {},
   "source": [
    "## LSTM Using Keras"
   ]
  },
  {
   "cell_type": "code",
   "execution_count": 4,
   "metadata": {},
   "outputs": [],
   "source": [
    "chunk_size = 150000\n",
    "\n",
    "chunks = int(np.floor(train_df.shape[0]/chunk_size))\n",
    "\n",
    "X_data = pd.DataFrame(index=range(chunks), dtype=np.float32, columns=['min','max','std', 'avg', 'sum', 'median', 'mean_diff', \n",
    "                                                                       'q05', 'q25', 'q75', 'q95'])\n",
    "y_data = pd.DataFrame(index=range(chunks), dtype=np.float32, columns=['ttf'])\n",
    "\n",
    "def create_features(data_chunk, X_df, chunk_no, col_name='acoustic_data'):\n",
    "    x = data_chunk[col_name]\n",
    "    X_df.loc[chunk_no, 'min'] = x.min()\n",
    "    X_df.loc[chunk_no, 'max'] = x.max()\n",
    "    X_df.loc[chunk_no, 'std'] = x.std()\n",
    "    X_df.loc[chunk_no, 'avg'] = x.mean()\n",
    "    X_df.loc[chunk_no, 'sum'] = x.sum()\n",
    "    X_df.loc[chunk_no, 'median'] = x.median()\n",
    "    X_df.loc[chunk_no, 'mean_diff'] = np.mean(np.diff(x))\n",
    "    X_df.loc[chunk_no, 'q05'] = np.quantile(x, 0.05)\n",
    "    X_df.loc[chunk_no, 'q25'] = np.quantile(x, 0.25)\n",
    "    X_df.loc[chunk_no, 'q75'] = np.quantile(x, 0.75)\n",
    "    X_df.loc[chunk_no, 'q95'] = np.quantile(x, 0.95)\n",
    "    return X_df"
   ]
  },
  {
   "cell_type": "code",
   "execution_count": 5,
   "metadata": {},
   "outputs": [
    {
     "name": "stderr",
     "output_type": "stream",
     "text": [
      "100%|██████████| 4194/4194 [00:40<00:00, 102.82it/s]\n"
     ]
    }
   ],
   "source": [
    "from tqdm import tqdm\n",
    "for chunk_no in tqdm(range(chunks)):\n",
    "    data_chunk = train_df.iloc[chunk_no*chunk_size:chunk_no*chunk_size+chunk_size]\n",
    "    X_data = create_features(data_chunk, X_data, chunk_no)\n",
    "    y = data_chunk['time_to_failure'].values[-1]\n",
    "    y_data.loc[chunk_no, 'ttf'] = y"
   ]
  },
  {
   "cell_type": "code",
   "execution_count": 6,
   "metadata": {},
   "outputs": [
    {
     "name": "stdout",
     "output_type": "stream",
     "text": [
      "(4194, 11)\n",
      "(4194, 1)\n",
      "11\n"
     ]
    },
    {
     "data": {
      "text/html": [
       "<div>\n",
       "<style scoped>\n",
       "    .dataframe tbody tr th:only-of-type {\n",
       "        vertical-align: middle;\n",
       "    }\n",
       "\n",
       "    .dataframe tbody tr th {\n",
       "        vertical-align: top;\n",
       "    }\n",
       "\n",
       "    .dataframe thead th {\n",
       "        text-align: right;\n",
       "    }\n",
       "</style>\n",
       "<table border=\"1\" class=\"dataframe\">\n",
       "  <thead>\n",
       "    <tr style=\"text-align: right;\">\n",
       "      <th></th>\n",
       "      <th>min</th>\n",
       "      <th>max</th>\n",
       "      <th>std</th>\n",
       "      <th>avg</th>\n",
       "      <th>sum</th>\n",
       "      <th>median</th>\n",
       "      <th>mean_diff</th>\n",
       "      <th>q05</th>\n",
       "      <th>q25</th>\n",
       "      <th>q75</th>\n",
       "      <th>q95</th>\n",
       "    </tr>\n",
       "  </thead>\n",
       "  <tbody>\n",
       "    <tr>\n",
       "      <td>0</td>\n",
       "      <td>-98.0</td>\n",
       "      <td>104.0</td>\n",
       "      <td>5.101106</td>\n",
       "      <td>4.884113</td>\n",
       "      <td>732617.0</td>\n",
       "      <td>5.0</td>\n",
       "      <td>-0.000080</td>\n",
       "      <td>-2.0</td>\n",
       "      <td>3.0</td>\n",
       "      <td>7.0</td>\n",
       "      <td>11.0</td>\n",
       "    </tr>\n",
       "    <tr>\n",
       "      <td>1</td>\n",
       "      <td>-154.0</td>\n",
       "      <td>181.0</td>\n",
       "      <td>6.588824</td>\n",
       "      <td>4.725767</td>\n",
       "      <td>708865.0</td>\n",
       "      <td>5.0</td>\n",
       "      <td>0.000000</td>\n",
       "      <td>-2.0</td>\n",
       "      <td>2.0</td>\n",
       "      <td>7.0</td>\n",
       "      <td>12.0</td>\n",
       "    </tr>\n",
       "    <tr>\n",
       "      <td>2</td>\n",
       "      <td>-106.0</td>\n",
       "      <td>140.0</td>\n",
       "      <td>6.967397</td>\n",
       "      <td>4.906394</td>\n",
       "      <td>735959.0</td>\n",
       "      <td>5.0</td>\n",
       "      <td>-0.000013</td>\n",
       "      <td>-3.0</td>\n",
       "      <td>2.0</td>\n",
       "      <td>7.0</td>\n",
       "      <td>13.0</td>\n",
       "    </tr>\n",
       "    <tr>\n",
       "      <td>3</td>\n",
       "      <td>-199.0</td>\n",
       "      <td>197.0</td>\n",
       "      <td>6.922305</td>\n",
       "      <td>4.902240</td>\n",
       "      <td>735336.0</td>\n",
       "      <td>5.0</td>\n",
       "      <td>0.000000</td>\n",
       "      <td>-2.0</td>\n",
       "      <td>2.0</td>\n",
       "      <td>7.0</td>\n",
       "      <td>12.0</td>\n",
       "    </tr>\n",
       "    <tr>\n",
       "      <td>4</td>\n",
       "      <td>-126.0</td>\n",
       "      <td>145.0</td>\n",
       "      <td>7.301110</td>\n",
       "      <td>4.908720</td>\n",
       "      <td>736308.0</td>\n",
       "      <td>5.0</td>\n",
       "      <td>-0.000007</td>\n",
       "      <td>-2.0</td>\n",
       "      <td>2.0</td>\n",
       "      <td>7.0</td>\n",
       "      <td>12.0</td>\n",
       "    </tr>\n",
       "  </tbody>\n",
       "</table>\n",
       "</div>"
      ],
      "text/plain": [
       "     min    max       std       avg       sum  median  mean_diff  q05  q25  \\\n",
       "0  -98.0  104.0  5.101106  4.884113  732617.0     5.0  -0.000080 -2.0  3.0   \n",
       "1 -154.0  181.0  6.588824  4.725767  708865.0     5.0   0.000000 -2.0  2.0   \n",
       "2 -106.0  140.0  6.967397  4.906394  735959.0     5.0  -0.000013 -3.0  2.0   \n",
       "3 -199.0  197.0  6.922305  4.902240  735336.0     5.0   0.000000 -2.0  2.0   \n",
       "4 -126.0  145.0  7.301110  4.908720  736308.0     5.0  -0.000007 -2.0  2.0   \n",
       "\n",
       "   q75   q95  \n",
       "0  7.0  11.0  \n",
       "1  7.0  12.0  \n",
       "2  7.0  13.0  \n",
       "3  7.0  12.0  \n",
       "4  7.0  12.0  "
      ]
     },
     "execution_count": 6,
     "metadata": {},
     "output_type": "execute_result"
    }
   ],
   "source": [
    "print(X_data.shape)\n",
    "print(y_data.shape)\n",
    "print(X_data.shape[1])\n",
    "X_data.head()"
   ]
  },
  {
   "cell_type": "code",
   "execution_count": 7,
   "metadata": {},
   "outputs": [
    {
     "data": {
      "text/plain": [
       "(3355, 11)"
      ]
     },
     "execution_count": 7,
     "metadata": {},
     "output_type": "execute_result"
    }
   ],
   "source": [
    "from sklearn.model_selection import train_test_split\n",
    "X_train, X_test, y_train, y_test = train_test_split(X_data.values, y_data.values, test_size=0.2)\n",
    "# X_test\n",
    "# X_data.values\n",
    "X_train.shape"
   ]
  },
  {
   "cell_type": "code",
   "execution_count": 8,
   "metadata": {},
   "outputs": [
    {
     "name": "stdout",
     "output_type": "stream",
     "text": [
      "WARNING:tensorflow:From /Users/lynette/opt/anaconda3/lib/python3.7/site-packages/tensorflow/python/ops/resource_variable_ops.py:435: colocate_with (from tensorflow.python.framework.ops) is deprecated and will be removed in a future version.\n",
      "Instructions for updating:\n",
      "Colocations handled automatically by placer.\n"
     ]
    }
   ],
   "source": [
    "from keras.models import Sequential\n",
    "from keras.layers import Dense, Dropout, Flatten, LSTM, Bidirectional\n",
    "from keras.optimizers import adam\n",
    "from keras.callbacks import ModelCheckpoint\n",
    "\n",
    "model = Sequential()\n",
    "model.add(LSTM(512, kernel_initializer=\"RandomUniform\", input_shape= (X_train.shape[1], 1), return_sequences = True))\n",
    "#model.add(CuDNNGRU(64, kernel_initializer=\"RandomUniform\", input_shape= (X_train.shape[1], 1)))\n",
    "model.add(Dropout(0.2))\n",
    "model.add(LSTM(256, dropout = 0.3, recurrent_dropout = 0.3))\n",
    "model.add(Dropout(0.2))\n",
    "model.add(Dense(64, activation=\"relu\"))\n",
    "model.add(Dropout(0.2))\n",
    "model.add(Dense(64, activation=\"relu\"))\n",
    "model.add(Dropout(0.2))\n",
    "# model.add(Flatten())\n",
    "model.add(Dense(1))\n"
   ]
  },
  {
   "cell_type": "code",
   "execution_count": 9,
   "metadata": {},
   "outputs": [
    {
     "name": "stdout",
     "output_type": "stream",
     "text": [
      "(3355, 11, 1)\n",
      "(3355, 1, 1)\n"
     ]
    }
   ],
   "source": [
    "\n",
    "# Reshaping for fit\n",
    "# X_train_array = np.reshape(X_train, (X_train.shape[0], 1, X_train.shape[1]))\n",
    "X_train_array = np.reshape(X_train, (X_train.shape[0], X_train.shape[1], 1))\n",
    "y_train_array = np.reshape(y_train, (y_train.shape[0], y_train.shape[1], 1))\n",
    "\n",
    "print(X_train_array.shape)\n",
    "print(y_train_array.shape)"
   ]
  },
  {
   "cell_type": "code",
   "execution_count": 10,
   "metadata": {},
   "outputs": [
    {
     "name": "stdout",
     "output_type": "stream",
     "text": [
      "WARNING:tensorflow:From /Users/lynette/opt/anaconda3/lib/python3.7/site-packages/tensorflow/python/ops/math_ops.py:3066: to_int32 (from tensorflow.python.ops.math_ops) is deprecated and will be removed in a future version.\n",
      "Instructions for updating:\n",
      "Use tf.cast instead.\n",
      "Train on 2684 samples, validate on 671 samples\n",
      "Epoch 1/150\n",
      "2684/2684 [==============================] - 10s 4ms/step - loss: 5.4300 - mae: 5.4300 - mse: 43.1215 - val_loss: 4.8305 - val_mae: 4.8305 - val_mse: 36.2690\n",
      "Epoch 2/150\n",
      "2684/2684 [==============================] - 9s 3ms/step - loss: 4.5603 - mae: 4.5603 - mse: 33.1497 - val_loss: 3.7803 - val_mae: 3.7803 - val_mse: 23.6355\n",
      "Epoch 3/150\n",
      "2684/2684 [==============================] - 9s 3ms/step - loss: 3.6699 - mae: 3.6699 - mse: 22.2283 - val_loss: 3.1575 - val_mae: 3.1575 - val_mse: 15.1454\n",
      "Epoch 4/150\n",
      "2684/2684 [==============================] - 8s 3ms/step - loss: 3.2384 - mae: 3.2384 - mse: 16.7403 - val_loss: 3.0785 - val_mae: 3.0785 - val_mse: 13.5055\n",
      "Epoch 5/150\n",
      "2684/2684 [==============================] - 9s 3ms/step - loss: 3.2210 - mae: 3.2210 - mse: 15.7530 - val_loss: 3.0788 - val_mae: 3.0788 - val_mse: 13.4289\n",
      "Epoch 6/150\n",
      "2684/2684 [==============================] - 9s 3ms/step - loss: 3.1933 - mae: 3.1933 - mse: 15.5751 - val_loss: 3.0742 - val_mae: 3.0742 - val_mse: 13.3861\n",
      "Epoch 7/150\n",
      "2684/2684 [==============================] - 8s 3ms/step - loss: 3.2097 - mae: 3.2097 - mse: 15.7350 - val_loss: 3.0654 - val_mae: 3.0654 - val_mse: 13.3303\n",
      "Epoch 8/150\n",
      "2684/2684 [==============================] - 8s 3ms/step - loss: 3.2347 - mae: 3.2347 - mse: 15.8281 - val_loss: 3.0537 - val_mae: 3.0537 - val_mse: 13.2502\n",
      "Epoch 9/150\n",
      "2684/2684 [==============================] - 8s 3ms/step - loss: 3.2207 - mae: 3.2207 - mse: 15.8678 - val_loss: 3.0308 - val_mae: 3.0308 - val_mse: 13.1621\n",
      "Epoch 10/150\n",
      "2684/2684 [==============================] - 9s 3ms/step - loss: 3.1685 - mae: 3.1685 - mse: 15.3663 - val_loss: 3.0044 - val_mae: 3.0044 - val_mse: 12.9382\n",
      "Epoch 11/150\n",
      "2684/2684 [==============================] - 9s 3ms/step - loss: 3.1554 - mae: 3.1554 - mse: 15.3820 - val_loss: 2.9460 - val_mae: 2.9460 - val_mse: 12.5860\n",
      "Epoch 12/150\n",
      "2684/2684 [==============================] - 9s 3ms/step - loss: 3.0174 - mae: 3.0174 - mse: 14.3487 - val_loss: 2.8748 - val_mae: 2.8748 - val_mse: 11.9938\n",
      "Epoch 13/150\n",
      "2684/2684 [==============================] - 9s 3ms/step - loss: 3.0523 - mae: 3.0523 - mse: 14.6455 - val_loss: 2.7315 - val_mae: 2.7315 - val_mse: 11.2129\n",
      "Epoch 14/150\n",
      "2684/2684 [==============================] - 8s 3ms/step - loss: 2.9316 - mae: 2.9316 - mse: 13.5988 - val_loss: 2.6467 - val_mae: 2.6467 - val_mse: 10.7725\n",
      "Epoch 15/150\n",
      "2684/2684 [==============================] - 8s 3ms/step - loss: 2.9311 - mae: 2.9311 - mse: 13.7797 - val_loss: 2.6052 - val_mae: 2.6052 - val_mse: 10.6476\n",
      "Epoch 16/150\n",
      "2684/2684 [==============================] - 8s 3ms/step - loss: 2.9259 - mae: 2.9259 - mse: 13.5818 - val_loss: 2.5810 - val_mae: 2.5810 - val_mse: 10.6082\n",
      "Epoch 17/150\n",
      "2684/2684 [==============================] - 8s 3ms/step - loss: 2.8554 - mae: 2.8554 - mse: 13.2926 - val_loss: 2.5768 - val_mae: 2.5768 - val_mse: 10.5869\n",
      "Epoch 18/150\n",
      "2684/2684 [==============================] - 8s 3ms/step - loss: 2.8776 - mae: 2.8776 - mse: 13.4457 - val_loss: 2.5828 - val_mae: 2.5828 - val_mse: 10.5516\n",
      "Epoch 19/150\n",
      "2684/2684 [==============================] - 8s 3ms/step - loss: 2.8660 - mae: 2.8660 - mse: 13.2368 - val_loss: 2.5959 - val_mae: 2.5959 - val_mse: 10.5372\n",
      "Epoch 20/150\n",
      "2684/2684 [==============================] - 8s 3ms/step - loss: 2.8711 - mae: 2.8711 - mse: 13.2052 - val_loss: 2.5571 - val_mae: 2.5571 - val_mse: 10.5463\n",
      "Epoch 21/150\n",
      "2684/2684 [==============================] - 8s 3ms/step - loss: 2.8497 - mae: 2.8497 - mse: 13.0530 - val_loss: 2.5589 - val_mae: 2.5589 - val_mse: 10.5002\n",
      "Epoch 22/150\n",
      "2684/2684 [==============================] - 8s 3ms/step - loss: 2.8434 - mae: 2.8434 - mse: 13.0200 - val_loss: 2.5517 - val_mae: 2.5517 - val_mse: 10.5003\n",
      "Epoch 23/150\n",
      "2684/2684 [==============================] - 9s 3ms/step - loss: 2.8342 - mae: 2.8342 - mse: 13.0319 - val_loss: 2.5625 - val_mae: 2.5625 - val_mse: 10.4339\n",
      "Epoch 24/150\n",
      "2684/2684 [==============================] - 8s 3ms/step - loss: 2.8210 - mae: 2.8210 - mse: 12.8545 - val_loss: 2.5530 - val_mae: 2.5530 - val_mse: 10.4316\n",
      "Epoch 25/150\n",
      "2684/2684 [==============================] - 8s 3ms/step - loss: 2.8088 - mae: 2.8088 - mse: 12.8966 - val_loss: 2.5638 - val_mae: 2.5638 - val_mse: 10.3953\n",
      "Epoch 26/150\n",
      "2684/2684 [==============================] - 9s 3ms/step - loss: 2.8212 - mae: 2.8212 - mse: 12.9115 - val_loss: 2.5468 - val_mae: 2.5468 - val_mse: 10.3953\n",
      "Epoch 27/150\n",
      "2684/2684 [==============================] - 9s 3ms/step - loss: 2.8259 - mae: 2.8259 - mse: 12.9642 - val_loss: 2.5456 - val_mae: 2.5456 - val_mse: 10.3689\n",
      "Epoch 28/150\n",
      "2684/2684 [==============================] - 8s 3ms/step - loss: 2.8098 - mae: 2.8098 - mse: 12.8943 - val_loss: 2.5418 - val_mae: 2.5418 - val_mse: 10.3542\n",
      "Epoch 29/150\n",
      "2684/2684 [==============================] - 9s 3ms/step - loss: 2.7872 - mae: 2.7872 - mse: 12.5688 - val_loss: 2.5529 - val_mae: 2.5529 - val_mse: 10.3069\n",
      "Epoch 30/150\n",
      "2684/2684 [==============================] - 9s 3ms/step - loss: 2.7908 - mae: 2.7908 - mse: 12.5058 - val_loss: 2.5265 - val_mae: 2.5265 - val_mse: 10.3708\n",
      "Epoch 31/150\n",
      "2684/2684 [==============================] - 9s 3ms/step - loss: 2.7928 - mae: 2.7928 - mse: 12.7002 - val_loss: 2.5322 - val_mae: 2.5322 - val_mse: 10.2743\n",
      "Epoch 32/150\n",
      "2684/2684 [==============================] - 8s 3ms/step - loss: 2.8095 - mae: 2.8095 - mse: 12.8548 - val_loss: 2.5331 - val_mae: 2.5331 - val_mse: 10.2417\n",
      "Epoch 33/150\n",
      "2684/2684 [==============================] - 9s 3ms/step - loss: 2.7958 - mae: 2.7958 - mse: 12.8892 - val_loss: 2.5318 - val_mae: 2.5318 - val_mse: 10.2074\n",
      "Epoch 34/150\n",
      "2684/2684 [==============================] - 9s 3ms/step - loss: 2.7968 - mae: 2.7968 - mse: 12.7137 - val_loss: 2.5155 - val_mae: 2.5155 - val_mse: 10.2398\n",
      "Epoch 35/150\n",
      "2684/2684 [==============================] - 8s 3ms/step - loss: 2.7902 - mae: 2.7902 - mse: 12.8105 - val_loss: 2.5212 - val_mae: 2.5212 - val_mse: 10.1681\n",
      "Epoch 36/150\n",
      "2684/2684 [==============================] - 9s 3ms/step - loss: 2.7973 - mae: 2.7973 - mse: 12.7369 - val_loss: 2.5342 - val_mae: 2.5342 - val_mse: 10.1334\n",
      "Epoch 37/150\n",
      "2684/2684 [==============================] - 10s 4ms/step - loss: 2.7516 - mae: 2.7516 - mse: 12.3218 - val_loss: 2.5188 - val_mae: 2.5188 - val_mse: 10.1029\n",
      "Epoch 38/150\n",
      "2684/2684 [==============================] - 9s 3ms/step - loss: 2.7697 - mae: 2.7697 - mse: 12.5939 - val_loss: 2.5038 - val_mae: 2.5038 - val_mse: 10.0959\n",
      "Epoch 39/150\n",
      "2684/2684 [==============================] - 9s 3ms/step - loss: 2.7459 - mae: 2.7459 - mse: 12.5208 - val_loss: 2.4898 - val_mae: 2.4898 - val_mse: 10.1190\n",
      "Epoch 40/150\n",
      "2684/2684 [==============================] - 9s 3ms/step - loss: 2.7547 - mae: 2.7547 - mse: 12.4997 - val_loss: 2.4914 - val_mae: 2.4914 - val_mse: 10.0393\n",
      "Epoch 41/150\n",
      "2684/2684 [==============================] - 9s 3ms/step - loss: 2.7628 - mae: 2.7628 - mse: 12.5411 - val_loss: 2.5046 - val_mae: 2.5046 - val_mse: 9.9863\n",
      "Epoch 42/150\n",
      "2684/2684 [==============================] - 9s 3ms/step - loss: 2.7306 - mae: 2.7306 - mse: 12.2482 - val_loss: 2.4797 - val_mae: 2.4797 - val_mse: 9.9791\n",
      "Epoch 43/150\n",
      "2684/2684 [==============================] - 9s 3ms/step - loss: 2.7186 - mae: 2.7186 - mse: 12.3140 - val_loss: 2.4828 - val_mae: 2.4828 - val_mse: 9.9105\n",
      "Epoch 44/150\n",
      "2684/2684 [==============================] - 9s 3ms/step - loss: 2.7091 - mae: 2.7091 - mse: 12.1087 - val_loss: 2.4694 - val_mae: 2.4694 - val_mse: 9.9087\n",
      "Epoch 45/150\n",
      "2684/2684 [==============================] - 9s 3ms/step - loss: 2.7158 - mae: 2.7158 - mse: 12.2499 - val_loss: 2.4592 - val_mae: 2.4592 - val_mse: 9.8721\n",
      "Epoch 46/150\n",
      "2684/2684 [==============================] - 9s 3ms/step - loss: 2.7160 - mae: 2.7160 - mse: 12.2317 - val_loss: 2.4710 - val_mae: 2.4710 - val_mse: 9.7692\n",
      "Epoch 47/150\n",
      "2684/2684 [==============================] - 9s 3ms/step - loss: 2.7844 - mae: 2.7844 - mse: 12.7114 - val_loss: 2.4615 - val_mae: 2.4615 - val_mse: 9.7352\n",
      "Epoch 48/150\n",
      "2684/2684 [==============================] - 8s 3ms/step - loss: 2.6937 - mae: 2.6937 - mse: 11.9856 - val_loss: 2.4419 - val_mae: 2.4419 - val_mse: 9.7240\n",
      "Epoch 49/150\n",
      "2684/2684 [==============================] - 8s 3ms/step - loss: 2.6962 - mae: 2.6962 - mse: 12.1203 - val_loss: 2.4773 - val_mae: 2.4773 - val_mse: 9.6947\n",
      "Epoch 50/150\n",
      "2684/2684 [==============================] - 9s 3ms/step - loss: 2.6881 - mae: 2.6881 - mse: 11.8940 - val_loss: 2.4446 - val_mae: 2.4446 - val_mse: 9.5986\n",
      "Epoch 51/150\n",
      "2684/2684 [==============================] - 8s 3ms/step - loss: 2.7249 - mae: 2.7249 - mse: 12.2043 - val_loss: 2.4329 - val_mae: 2.4329 - val_mse: 9.5390\n",
      "Epoch 52/150\n",
      "2684/2684 [==============================] - 9s 3ms/step - loss: 2.6942 - mae: 2.6942 - mse: 12.0472 - val_loss: 2.4205 - val_mae: 2.4205 - val_mse: 9.4854\n",
      "Epoch 53/150\n",
      "2684/2684 [==============================] - 9s 3ms/step - loss: 2.6371 - mae: 2.6371 - mse: 11.4892 - val_loss: 2.3961 - val_mae: 2.3961 - val_mse: 9.4836\n",
      "Epoch 54/150\n",
      "2684/2684 [==============================] - 11s 4ms/step - loss: 2.6687 - mae: 2.6687 - mse: 11.7396 - val_loss: 2.4363 - val_mae: 2.4363 - val_mse: 9.4208\n",
      "Epoch 55/150\n",
      "2684/2684 [==============================] - 9s 3ms/step - loss: 2.6673 - mae: 2.6673 - mse: 11.8479 - val_loss: 2.4191 - val_mae: 2.4191 - val_mse: 9.3513\n",
      "Epoch 56/150\n",
      "2684/2684 [==============================] - 9s 3ms/step - loss: 2.6844 - mae: 2.6844 - mse: 11.9789 - val_loss: 2.4119 - val_mae: 2.4119 - val_mse: 9.2946\n",
      "Epoch 57/150\n",
      "2684/2684 [==============================] - 8s 3ms/step - loss: 2.6190 - mae: 2.6190 - mse: 11.5540 - val_loss: 2.3935 - val_mae: 2.3935 - val_mse: 9.2156\n",
      "Epoch 58/150\n",
      "2684/2684 [==============================] - 9s 3ms/step - loss: 2.6418 - mae: 2.6418 - mse: 11.5173 - val_loss: 2.4006 - val_mae: 2.4006 - val_mse: 9.1971\n",
      "Epoch 59/150\n",
      "2684/2684 [==============================] - 9s 3ms/step - loss: 2.6282 - mae: 2.6282 - mse: 11.5341 - val_loss: 2.4261 - val_mae: 2.4261 - val_mse: 9.2522\n",
      "Epoch 60/150\n",
      "2684/2684 [==============================] - 9s 3ms/step - loss: 2.6020 - mae: 2.6020 - mse: 11.4176 - val_loss: 2.3432 - val_mae: 2.3432 - val_mse: 9.0393\n",
      "Epoch 61/150\n",
      "2684/2684 [==============================] - 9s 3ms/step - loss: 2.5976 - mae: 2.5976 - mse: 11.3252 - val_loss: 2.3254 - val_mae: 2.3254 - val_mse: 8.9946\n",
      "Epoch 62/150\n",
      "2684/2684 [==============================] - 9s 4ms/step - loss: 2.6126 - mae: 2.6126 - mse: 11.5494 - val_loss: 2.3411 - val_mae: 2.3411 - val_mse: 8.9245\n",
      "Epoch 63/150\n",
      "2684/2684 [==============================] - 10s 4ms/step - loss: 2.6153 - mae: 2.6153 - mse: 11.7062 - val_loss: 2.3119 - val_mae: 2.3119 - val_mse: 8.8444\n",
      "Epoch 64/150\n",
      "2684/2684 [==============================] - 10s 4ms/step - loss: 2.5679 - mae: 2.5679 - mse: 11.1752 - val_loss: 2.3174 - val_mae: 2.3174 - val_mse: 8.8030\n",
      "Epoch 65/150\n",
      "2684/2684 [==============================] - 9s 3ms/step - loss: 2.5707 - mae: 2.5707 - mse: 11.0906 - val_loss: 2.3333 - val_mae: 2.3333 - val_mse: 8.8032\n",
      "Epoch 66/150\n",
      "2684/2684 [==============================] - 8s 3ms/step - loss: 2.5788 - mae: 2.5788 - mse: 11.2347 - val_loss: 2.2879 - val_mae: 2.2879 - val_mse: 8.6670\n",
      "Epoch 67/150\n",
      "2684/2684 [==============================] - 8s 3ms/step - loss: 2.5737 - mae: 2.5737 - mse: 11.2671 - val_loss: 2.3313 - val_mae: 2.3313 - val_mse: 8.7269\n",
      "Epoch 68/150\n",
      "2684/2684 [==============================] - 8s 3ms/step - loss: 2.5349 - mae: 2.5349 - mse: 10.8884 - val_loss: 2.2901 - val_mae: 2.2901 - val_mse: 8.5615\n",
      "Epoch 69/150\n",
      "2684/2684 [==============================] - 8s 3ms/step - loss: 2.5648 - mae: 2.5648 - mse: 11.1516 - val_loss: 2.2841 - val_mae: 2.2841 - val_mse: 8.5086\n",
      "Epoch 70/150\n",
      "2684/2684 [==============================] - 8s 3ms/step - loss: 2.5026 - mae: 2.5026 - mse: 10.6582 - val_loss: 2.2344 - val_mae: 2.2344 - val_mse: 8.4156\n",
      "Epoch 71/150\n",
      "2684/2684 [==============================] - 8s 3ms/step - loss: 2.5204 - mae: 2.5204 - mse: 10.9121 - val_loss: 2.2684 - val_mae: 2.2684 - val_mse: 8.3995\n",
      "Epoch 72/150\n",
      "2684/2684 [==============================] - 8s 3ms/step - loss: 2.4985 - mae: 2.4985 - mse: 10.7749 - val_loss: 2.2529 - val_mae: 2.2529 - val_mse: 8.3203\n",
      "Epoch 73/150\n",
      "2684/2684 [==============================] - 8s 3ms/step - loss: 2.5125 - mae: 2.5125 - mse: 10.8873 - val_loss: 2.2872 - val_mae: 2.2872 - val_mse: 8.3865\n",
      "Epoch 74/150\n",
      "2684/2684 [==============================] - 8s 3ms/step - loss: 2.4797 - mae: 2.4797 - mse: 10.7201 - val_loss: 2.2206 - val_mae: 2.2206 - val_mse: 8.1995\n",
      "Epoch 75/150\n",
      "2684/2684 [==============================] - 8s 3ms/step - loss: 2.4549 - mae: 2.4549 - mse: 10.3320 - val_loss: 2.1952 - val_mae: 2.1952 - val_mse: 8.1305\n",
      "Epoch 76/150\n",
      "2684/2684 [==============================] - 8s 3ms/step - loss: 2.4180 - mae: 2.4180 - mse: 10.2209 - val_loss: 2.2319 - val_mae: 2.2319 - val_mse: 8.1657\n",
      "Epoch 77/150\n",
      "2684/2684 [==============================] - 8s 3ms/step - loss: 2.4617 - mae: 2.4617 - mse: 10.4565 - val_loss: 2.1794 - val_mae: 2.1794 - val_mse: 8.0175\n",
      "Epoch 78/150\n",
      "2684/2684 [==============================] - 9s 3ms/step - loss: 2.4488 - mae: 2.4488 - mse: 10.4440 - val_loss: 2.1712 - val_mae: 2.1712 - val_mse: 7.9448\n",
      "Epoch 79/150\n",
      "2684/2684 [==============================] - 9s 3ms/step - loss: 2.4559 - mae: 2.4559 - mse: 10.4247 - val_loss: 2.2277 - val_mae: 2.2277 - val_mse: 8.0442\n",
      "Epoch 80/150\n",
      "2684/2684 [==============================] - 8s 3ms/step - loss: 2.4569 - mae: 2.4569 - mse: 10.4601 - val_loss: 2.1760 - val_mae: 2.1760 - val_mse: 7.8894\n",
      "Epoch 81/150\n",
      "2684/2684 [==============================] - 8s 3ms/step - loss: 2.4255 - mae: 2.4255 - mse: 10.1193 - val_loss: 2.2192 - val_mae: 2.2192 - val_mse: 7.9589\n",
      "Epoch 82/150\n",
      "2684/2684 [==============================] - 8s 3ms/step - loss: 2.4370 - mae: 2.4370 - mse: 10.2725 - val_loss: 2.1228 - val_mae: 2.1228 - val_mse: 7.7819\n",
      "Epoch 83/150\n",
      "2684/2684 [==============================] - 8s 3ms/step - loss: 2.4172 - mae: 2.4172 - mse: 10.1459 - val_loss: 2.1620 - val_mae: 2.1620 - val_mse: 7.7568\n",
      "Epoch 84/150\n",
      "2684/2684 [==============================] - 8s 3ms/step - loss: 2.3928 - mae: 2.3928 - mse: 9.9522 - val_loss: 2.2416 - val_mae: 2.2416 - val_mse: 8.0251\n",
      "Epoch 85/150\n",
      "2684/2684 [==============================] - 8s 3ms/step - loss: 2.3940 - mae: 2.3940 - mse: 9.9843 - val_loss: 2.2050 - val_mae: 2.2050 - val_mse: 7.8427\n",
      "Epoch 86/150\n",
      "2684/2684 [==============================] - 8s 3ms/step - loss: 2.4112 - mae: 2.4112 - mse: 9.9849 - val_loss: 2.1979 - val_mae: 2.1979 - val_mse: 7.8040\n",
      "Epoch 87/150\n",
      "2684/2684 [==============================] - 8s 3ms/step - loss: 2.3851 - mae: 2.3851 - mse: 9.8625 - val_loss: 2.2309 - val_mae: 2.2309 - val_mse: 7.9256\n",
      "Epoch 88/150\n",
      "2684/2684 [==============================] - 8s 3ms/step - loss: 2.3485 - mae: 2.3485 - mse: 9.6538 - val_loss: 2.1549 - val_mae: 2.1549 - val_mse: 7.6253\n",
      "Epoch 89/150\n",
      "2684/2684 [==============================] - 8s 3ms/step - loss: 2.3569 - mae: 2.3569 - mse: 9.6069 - val_loss: 2.1163 - val_mae: 2.1163 - val_mse: 7.5368\n",
      "Epoch 90/150\n",
      "2684/2684 [==============================] - 8s 3ms/step - loss: 2.3376 - mae: 2.3376 - mse: 9.7291 - val_loss: 2.1711 - val_mae: 2.1711 - val_mse: 7.6429\n",
      "Epoch 91/150\n",
      "2684/2684 [==============================] - 8s 3ms/step - loss: 2.3520 - mae: 2.3520 - mse: 9.6017 - val_loss: 2.1350 - val_mae: 2.1350 - val_mse: 7.5452\n",
      "Epoch 92/150\n",
      "2684/2684 [==============================] - 8s 3ms/step - loss: 2.3681 - mae: 2.3681 - mse: 9.7752 - val_loss: 2.2328 - val_mae: 2.2328 - val_mse: 7.8614\n",
      "Epoch 93/150\n",
      "2684/2684 [==============================] - 9s 4ms/step - loss: 2.3735 - mae: 2.3735 - mse: 9.8531 - val_loss: 2.1487 - val_mae: 2.1487 - val_mse: 7.5414\n",
      "Epoch 94/150\n",
      "2684/2684 [==============================] - 9s 3ms/step - loss: 2.3817 - mae: 2.3817 - mse: 10.0297 - val_loss: 2.1445 - val_mae: 2.1445 - val_mse: 7.4896\n",
      "Epoch 95/150\n"
     ]
    },
    {
     "name": "stdout",
     "output_type": "stream",
     "text": [
      "2684/2684 [==============================] - 9s 3ms/step - loss: 2.3593 - mae: 2.3593 - mse: 9.6319 - val_loss: 2.1177 - val_mae: 2.1177 - val_mse: 7.4131\n",
      "Epoch 96/150\n",
      "2684/2684 [==============================] - 9s 3ms/step - loss: 2.3566 - mae: 2.3566 - mse: 9.8063 - val_loss: 2.1156 - val_mae: 2.1156 - val_mse: 7.3943\n",
      "Epoch 97/150\n",
      "2684/2684 [==============================] - 11s 4ms/step - loss: 2.3657 - mae: 2.3657 - mse: 9.6464 - val_loss: 2.0985 - val_mae: 2.0985 - val_mse: 7.3473\n",
      "Epoch 98/150\n",
      "2684/2684 [==============================] - 9s 3ms/step - loss: 2.3273 - mae: 2.3273 - mse: 9.5173 - val_loss: 2.1773 - val_mae: 2.1773 - val_mse: 7.5562\n",
      "Epoch 99/150\n",
      "2684/2684 [==============================] - 9s 3ms/step - loss: 2.3581 - mae: 2.3581 - mse: 9.6584 - val_loss: 2.1151 - val_mae: 2.1151 - val_mse: 7.3580\n",
      "Epoch 100/150\n",
      "2684/2684 [==============================] - 9s 3ms/step - loss: 2.3302 - mae: 2.3302 - mse: 9.4605 - val_loss: 2.1752 - val_mae: 2.1752 - val_mse: 7.5686\n",
      "Epoch 101/150\n",
      "2684/2684 [==============================] - 9s 3ms/step - loss: 2.3409 - mae: 2.3409 - mse: 9.6901 - val_loss: 2.0764 - val_mae: 2.0764 - val_mse: 7.2717\n",
      "Epoch 102/150\n",
      "2684/2684 [==============================] - 9s 3ms/step - loss: 2.3339 - mae: 2.3339 - mse: 9.5135 - val_loss: 2.1390 - val_mae: 2.1390 - val_mse: 7.4126\n",
      "Epoch 103/150\n",
      "2684/2684 [==============================] - 10s 4ms/step - loss: 2.3340 - mae: 2.3340 - mse: 9.4574 - val_loss: 2.1367 - val_mae: 2.1367 - val_mse: 7.3968\n",
      "Epoch 104/150\n",
      "2684/2684 [==============================] - 9s 3ms/step - loss: 2.3784 - mae: 2.3784 - mse: 9.8419 - val_loss: 2.1692 - val_mae: 2.1692 - val_mse: 7.4866\n",
      "Epoch 105/150\n",
      "2684/2684 [==============================] - 9s 3ms/step - loss: 2.3231 - mae: 2.3231 - mse: 9.3405 - val_loss: 2.1411 - val_mae: 2.1411 - val_mse: 7.3923\n",
      "Epoch 106/150\n",
      "2684/2684 [==============================] - 8s 3ms/step - loss: 2.3112 - mae: 2.3112 - mse: 9.2872 - val_loss: 2.0843 - val_mae: 2.0843 - val_mse: 7.2270\n",
      "Epoch 107/150\n",
      "2684/2684 [==============================] - 9s 3ms/step - loss: 2.3158 - mae: 2.3158 - mse: 9.3194 - val_loss: 2.0843 - val_mae: 2.0843 - val_mse: 7.2229\n",
      "Epoch 108/150\n",
      "2684/2684 [==============================] - 8s 3ms/step - loss: 2.3002 - mae: 2.3002 - mse: 9.4682 - val_loss: 2.0734 - val_mae: 2.0734 - val_mse: 7.1980\n",
      "Epoch 109/150\n",
      "2684/2684 [==============================] - 8s 3ms/step - loss: 2.3356 - mae: 2.3356 - mse: 9.4990 - val_loss: 2.0821 - val_mae: 2.0821 - val_mse: 7.2026\n",
      "Epoch 110/150\n",
      "2684/2684 [==============================] - 8s 3ms/step - loss: 2.3328 - mae: 2.3328 - mse: 9.4979 - val_loss: 2.0696 - val_mae: 2.0696 - val_mse: 7.1810\n",
      "Epoch 111/150\n",
      "2684/2684 [==============================] - 8s 3ms/step - loss: 2.3577 - mae: 2.3577 - mse: 9.7453 - val_loss: 2.1453 - val_mae: 2.1453 - val_mse: 7.3669\n",
      "Epoch 112/150\n",
      "2684/2684 [==============================] - 8s 3ms/step - loss: 2.3032 - mae: 2.3032 - mse: 9.3262 - val_loss: 2.0927 - val_mae: 2.0927 - val_mse: 7.2018\n",
      "Epoch 113/150\n",
      "2684/2684 [==============================] - 8s 3ms/step - loss: 2.2848 - mae: 2.2848 - mse: 9.0969 - val_loss: 2.1609 - val_mae: 2.1609 - val_mse: 7.4716\n",
      "Epoch 114/150\n",
      "2684/2684 [==============================] - 9s 4ms/step - loss: 2.3380 - mae: 2.3380 - mse: 9.7128 - val_loss: 2.0947 - val_mae: 2.0947 - val_mse: 7.2071\n",
      "Epoch 115/150\n",
      "2684/2684 [==============================] - 10s 4ms/step - loss: 2.3124 - mae: 2.3124 - mse: 9.4292 - val_loss: 2.1110 - val_mae: 2.1110 - val_mse: 7.2365\n",
      "Epoch 116/150\n",
      "2684/2684 [==============================] - 9s 4ms/step - loss: 2.2894 - mae: 2.2894 - mse: 9.0908 - val_loss: 2.0404 - val_mae: 2.0404 - val_mse: 7.1851\n",
      "Epoch 117/150\n",
      "2684/2684 [==============================] - 9s 3ms/step - loss: 2.2857 - mae: 2.2857 - mse: 9.1124 - val_loss: 2.0726 - val_mae: 2.0726 - val_mse: 7.1448\n",
      "Epoch 118/150\n",
      "2684/2684 [==============================] - 9s 3ms/step - loss: 2.3157 - mae: 2.3157 - mse: 9.4767 - val_loss: 2.0983 - val_mae: 2.0983 - val_mse: 7.1976\n",
      "Epoch 119/150\n",
      "2684/2684 [==============================] - 9s 3ms/step - loss: 2.2970 - mae: 2.2970 - mse: 9.3092 - val_loss: 2.0959 - val_mae: 2.0959 - val_mse: 7.1834\n",
      "Epoch 120/150\n",
      "2684/2684 [==============================] - 9s 3ms/step - loss: 2.2990 - mae: 2.2990 - mse: 9.2971 - val_loss: 2.1138 - val_mae: 2.1138 - val_mse: 7.2379\n",
      "Epoch 121/150\n",
      "2684/2684 [==============================] - 9s 3ms/step - loss: 2.3367 - mae: 2.3367 - mse: 9.4615 - val_loss: 2.0813 - val_mae: 2.0813 - val_mse: 7.1337\n",
      "Epoch 122/150\n",
      "2684/2684 [==============================] - 8s 3ms/step - loss: 2.3274 - mae: 2.3274 - mse: 9.4122 - val_loss: 2.1165 - val_mae: 2.1165 - val_mse: 7.2361\n",
      "Epoch 123/150\n",
      "2684/2684 [==============================] - 8s 3ms/step - loss: 2.3206 - mae: 2.3206 - mse: 9.2963 - val_loss: 2.1034 - val_mae: 2.1034 - val_mse: 7.2000\n",
      "Epoch 124/150\n",
      "2684/2684 [==============================] - 8s 3ms/step - loss: 2.2923 - mae: 2.2923 - mse: 9.1918 - val_loss: 2.1784 - val_mae: 2.1784 - val_mse: 7.4513\n",
      "Epoch 125/150\n",
      "2684/2684 [==============================] - 8s 3ms/step - loss: 2.2768 - mae: 2.2768 - mse: 8.9592 - val_loss: 2.0831 - val_mae: 2.0831 - val_mse: 7.1418\n",
      "Epoch 126/150\n",
      "2684/2684 [==============================] - 8s 3ms/step - loss: 2.3057 - mae: 2.3057 - mse: 9.3031 - val_loss: 2.1786 - val_mae: 2.1786 - val_mse: 7.4958\n",
      "Epoch 127/150\n",
      "2684/2684 [==============================] - 8s 3ms/step - loss: 2.3004 - mae: 2.3004 - mse: 9.2894 - val_loss: 2.0566 - val_mae: 2.0566 - val_mse: 7.1215\n",
      "Epoch 128/150\n",
      "2684/2684 [==============================] - 8s 3ms/step - loss: 2.3026 - mae: 2.3026 - mse: 9.4213 - val_loss: 2.1655 - val_mae: 2.1655 - val_mse: 7.4099\n",
      "Epoch 129/150\n",
      "2684/2684 [==============================] - 8s 3ms/step - loss: 2.2802 - mae: 2.2802 - mse: 9.0515 - val_loss: 2.0561 - val_mae: 2.0561 - val_mse: 7.1268\n",
      "Epoch 130/150\n",
      "2684/2684 [==============================] - 8s 3ms/step - loss: 2.2856 - mae: 2.2856 - mse: 9.2201 - val_loss: 2.1345 - val_mae: 2.1345 - val_mse: 7.3245\n",
      "Epoch 131/150\n",
      "2684/2684 [==============================] - 8s 3ms/step - loss: 2.3007 - mae: 2.3007 - mse: 9.4243 - val_loss: 2.0863 - val_mae: 2.0863 - val_mse: 7.1449\n",
      "Epoch 132/150\n",
      "2684/2684 [==============================] - 8s 3ms/step - loss: 2.3261 - mae: 2.3261 - mse: 9.3709 - val_loss: 2.0595 - val_mae: 2.0595 - val_mse: 7.1065\n",
      "Epoch 133/150\n",
      "2684/2684 [==============================] - 8s 3ms/step - loss: 2.3174 - mae: 2.3174 - mse: 9.2740 - val_loss: 2.0762 - val_mae: 2.0762 - val_mse: 7.1146\n",
      "Epoch 134/150\n",
      "2684/2684 [==============================] - 8s 3ms/step - loss: 2.2924 - mae: 2.2924 - mse: 9.1348 - val_loss: 2.1374 - val_mae: 2.1374 - val_mse: 7.2777\n",
      "Epoch 135/150\n",
      "2684/2684 [==============================] - 8s 3ms/step - loss: 2.2943 - mae: 2.2943 - mse: 9.2300 - val_loss: 2.0947 - val_mae: 2.0947 - val_mse: 7.1425\n",
      "Epoch 136/150\n",
      "2684/2684 [==============================] - 8s 3ms/step - loss: 2.2746 - mae: 2.2746 - mse: 9.0740 - val_loss: 2.1070 - val_mae: 2.1070 - val_mse: 7.1887\n",
      "Epoch 137/150\n",
      "2684/2684 [==============================] - 8s 3ms/step - loss: 2.2842 - mae: 2.2842 - mse: 9.1413 - val_loss: 2.0504 - val_mae: 2.0504 - val_mse: 7.0888\n",
      "Epoch 138/150\n",
      "2684/2684 [==============================] - 8s 3ms/step - loss: 2.3029 - mae: 2.3029 - mse: 9.2125 - val_loss: 2.1019 - val_mae: 2.1019 - val_mse: 7.1753\n",
      "Epoch 139/150\n",
      "2684/2684 [==============================] - 8s 3ms/step - loss: 2.3038 - mae: 2.3038 - mse: 9.2941 - val_loss: 2.0446 - val_mae: 2.0446 - val_mse: 7.1000\n",
      "Epoch 140/150\n",
      "2684/2684 [==============================] - 9s 3ms/step - loss: 2.2893 - mae: 2.2893 - mse: 9.1937 - val_loss: 2.1029 - val_mae: 2.1029 - val_mse: 7.1781\n",
      "Epoch 141/150\n",
      "2684/2684 [==============================] - 9s 3ms/step - loss: 2.3413 - mae: 2.3413 - mse: 9.5593 - val_loss: 2.0792 - val_mae: 2.0792 - val_mse: 7.1005\n",
      "Epoch 142/150\n",
      "2684/2684 [==============================] - 9s 3ms/step - loss: 2.3273 - mae: 2.3273 - mse: 9.3824 - val_loss: 2.0582 - val_mae: 2.0582 - val_mse: 7.0647\n",
      "Epoch 143/150\n",
      "2684/2684 [==============================] - 9s 3ms/step - loss: 2.2538 - mae: 2.2538 - mse: 8.8680 - val_loss: 2.0513 - val_mae: 2.0513 - val_mse: 7.0764\n",
      "Epoch 144/150\n",
      "2684/2684 [==============================] - 8s 3ms/step - loss: 2.2959 - mae: 2.2959 - mse: 9.1765 - val_loss: 2.0747 - val_mae: 2.0747 - val_mse: 7.0935\n",
      "Epoch 145/150\n",
      "2684/2684 [==============================] - 8s 3ms/step - loss: 2.2768 - mae: 2.2768 - mse: 8.9685 - val_loss: 2.1059 - val_mae: 2.1059 - val_mse: 7.1955\n",
      "Epoch 146/150\n",
      "2684/2684 [==============================] - 9s 3ms/step - loss: 2.2989 - mae: 2.2989 - mse: 9.2804 - val_loss: 2.0359 - val_mae: 2.0359 - val_mse: 7.1579\n",
      "Epoch 147/150\n",
      "2684/2684 [==============================] - 9s 3ms/step - loss: 2.2979 - mae: 2.2979 - mse: 9.2099 - val_loss: 2.0443 - val_mae: 2.0443 - val_mse: 7.0919\n",
      "Epoch 148/150\n",
      "2684/2684 [==============================] - 8s 3ms/step - loss: 2.2806 - mae: 2.2806 - mse: 9.1599 - val_loss: 2.0624 - val_mae: 2.0624 - val_mse: 7.0610\n",
      "Epoch 149/150\n",
      "2684/2684 [==============================] - 9s 3ms/step - loss: 2.2743 - mae: 2.2743 - mse: 9.0931 - val_loss: 2.0471 - val_mae: 2.0471 - val_mse: 7.0711\n",
      "Epoch 150/150\n",
      "2684/2684 [==============================] - 9s 4ms/step - loss: 2.2704 - mae: 2.2704 - mse: 9.0107 - val_loss: 2.0792 - val_mae: 2.0792 - val_mse: 7.0903\n"
     ]
    }
   ],
   "source": [
    "\n",
    "\n",
    "\n",
    "# model.compile(loss=\"mean_squared_error\", optimizer=\"rmsprop\", metrics=[\"mse\"])\n",
    "opt = keras.optimizers.Adam(learning_rate=1e-5)\n",
    "model.compile(loss=\"mean_absolute_error\", optimizer=opt, metrics=[\"mae\", \"mse\"])\n",
    "#model.summary()\n",
    "\n",
    "build = model.fit(X_train_array, y_train, epochs=150, batch_size=30, validation_split = 0.20, verbose=1, shuffle = False)"
   ]
  },
  {
   "cell_type": "code",
   "execution_count": 12,
   "metadata": {},
   "outputs": [
    {
     "name": "stdout",
     "output_type": "stream",
     "text": [
      "dict_keys(['val_loss', 'val_mae', 'val_mse', 'loss', 'mae', 'mse'])\n"
     ]
    },
    {
     "data": {
      "image/png": "[encoded data removed]",
      "text/plain": [
       "<Figure size 432x288 with 1 Axes>"
      ]
     },
     "metadata": {
      "needs_background": "light"
     },
     "output_type": "display_data"
    },
    {
     "data": {
      "image/png": "[encoded data removed]",
      "text/plain": [
       "<Figure size 432x288 with 1 Axes>"
      ]
     },
     "metadata": {
      "needs_background": "light"
     },
     "output_type": "display_data"
    }
   ],
   "source": [
    "import matplotlib.pyplot as plt\n",
    "# list all data in history\n",
    "print(build.history.keys())\n",
    "# summarize history for accuracy\n",
    "plt.plot(build.history['mae'])\n",
    "plt.plot(build.history['val_mae'])\n",
    "plt.title('model MAE')\n",
    "plt.ylabel('accuracy')\n",
    "plt.xlabel('epoch')\n",
    "plt.legend(['train', 'test'], loc='upper left')\n",
    "plt.show()\n",
    "# summarize history for loss\n",
    "plt.plot(build.history['loss'])\n",
    "plt.plot(build.history['val_loss'])\n",
    "plt.title('model loss')\n",
    "plt.ylabel('loss')\n",
    "plt.xlabel('epoch')\n",
    "plt.legend(['train', 'test'], loc='upper left')\n",
    "plt.show()"
   ]
  },
  {
   "cell_type": "code",
   "execution_count": 13,
   "metadata": {},
   "outputs": [
    {
     "name": "stdout",
     "output_type": "stream",
     "text": [
      "Saved model to disk\n"
     ]
    }
   ],
   "source": [
    "model.save(\"model-single-direction.h5\")\n",
    "print(\"Saved model to disk\")"
   ]
  },
  {
   "cell_type": "markdown",
   "metadata": {},
   "source": [
    "## save test result"
   ]
  },
  {
   "cell_type": "code",
   "execution_count": 14,
   "metadata": {},
   "outputs": [
    {
     "name": "stderr",
     "output_type": "stream",
     "text": [
      "100%|██████████| 2624/2624 [00:52<00:00, 49.60it/s]\n"
     ]
    }
   ],
   "source": [
    "submission = pd.read_csv(\"../data/sample_submission.csv\", index_col='seg_id', dtype={\"time_to_failure\": np.float32})\n",
    "X_sub = pd.DataFrame(columns=X_data.columns, dtype=np.float32)\n",
    "\n",
    "for i, seg_id in enumerate(tqdm(submission.index)):\n",
    "    seg = pd.read_csv('../data/test/' + str(seg_id) + '.csv')\n",
    "    X_seg = create_features(seg, X_sub, i)"
   ]
  },
  {
   "cell_type": "code",
   "execution_count": 15,
   "metadata": {},
   "outputs": [],
   "source": [
    "X_seg_array = np.reshape(X_seg.values, (X_seg.shape[0], X_seg.shape[1], 1))\n",
    "pred_final = model.predict(X_seg_array)\n",
    "submission['time_to_failure'] = pred_final\n",
    "\n",
    "submission.to_csv('submission-LSTM-single-direction.csv')"
   ]
  },
  {
   "cell_type": "markdown",
   "metadata": {},
   "source": [
    "## plot the test acoustic data"
   ]
  },
  {
   "cell_type": "code",
   "execution_count": 16,
   "metadata": {},
   "outputs": [
    {
     "name": "stdout",
     "output_type": "stream",
     "text": [
      "            time_to_failure\n",
      "seg_id                     \n",
      "seg_004314         0.759541\n",
      "seg_0e3d44         0.940253\n",
      "seg_26a2a0         0.564851\n",
      "seg_2f86cd         0.614960\n",
      "seg_39ad50         0.772291\n",
      "seg_3b2013         0.944508\n",
      "seg_3e87b4         0.756773\n",
      "seg_4e3bd7         0.993802\n",
      "seg_5c57a8         0.927430\n",
      "seg_724df9         0.565960\n",
      "seg_7848f8         0.596353\n",
      "seg_7a9f2b         0.574037\n",
      "seg_7fa6ec         0.565151\n",
      "seg_87e4e8         0.911540\n",
      "seg_8be76c         0.894658\n",
      "seg_8dfd7a         0.981838\n",
      "seg_90b174         0.839806\n",
      "seg_a1a511         0.981463\n",
      "seg_aa98cc         0.579625\n",
      "seg_b35174         0.562655\n",
      "seg_b686e5         0.746278\n",
      "seg_bfdd14         0.759013\n",
      "seg_c243a6         0.982176\n",
      "seg_c5dee4         0.910852\n",
      "seg_c80857         0.572809\n",
      "seg_c9831a         0.880872\n",
      "seg_e3d751         0.540060\n",
      "seg_fdd50e         0.843872\n",
      "<class 'pandas.core.frame.DataFrame'>\n",
      "Index(['time_to_failure'], dtype='object')\n",
      "seg_26a2a0\n"
     ]
    },
    {
     "data": {
      "image/png": "[encoded data removed]",
      "text/plain": [
       "<Figure size 576x288 with 1 Axes>"
      ]
     },
     "metadata": {
      "needs_background": "light"
     },
     "output_type": "display_data"
    }
   ],
   "source": [
    "possible_eq = submission.loc[submission[\"time_to_failure\"] < 1.0]\n",
    "print(possible_eq)\n",
    "print(type(possible_eq))\n",
    "print(possible_eq.columns)\n",
    "segments = [\"seg_26a2a0\"]\n",
    "for seg_id in segments:\n",
    "    print(seg_id)\n",
    "    seg = pd.read_csv('../data/test/' + seg_id + '.csv')\n",
    "    fig, ax1 = plt.subplots(figsize=(8, 4))\n",
    "    plt.title(\"Trends of acoustic_data for test file {}\".format(seg_id))\n",
    "    plt.plot(seg['acoustic_data'].values, color='b')\n",
    "    ax1.set_ylabel('acoustic_data', color='b')\n",
    "    plt.legend(['acoustic_data'])"
   ]
  },
  {
   "cell_type": "code",
   "execution_count": 1,
   "metadata": {},
   "outputs": [
    {
     "name": "stderr",
     "output_type": "stream",
     "text": [
      "Using TensorFlow backend.\n",
      "/Users/lynette/opt/anaconda3/lib/python3.7/site-packages/tensorflow/python/framework/dtypes.py:526: FutureWarning: Passing (type, 1) or '1type' as a synonym of type is deprecated; in a future version of numpy, it will be understood as (type, (1,)) / '(1,)type'.\n",
      "  _np_qint8 = np.dtype([(\"qint8\", np.int8, 1)])\n",
      "/Users/lynette/opt/anaconda3/lib/python3.7/site-packages/tensorflow/python/framework/dtypes.py:527: FutureWarning: Passing (type, 1) or '1type' as a synonym of type is deprecated; in a future version of numpy, it will be understood as (type, (1,)) / '(1,)type'.\n",
      "  _np_quint8 = np.dtype([(\"quint8\", np.uint8, 1)])\n",
      "/Users/lynette/opt/anaconda3/lib/python3.7/site-packages/tensorflow/python/framework/dtypes.py:528: FutureWarning: Passing (type, 1) or '1type' as a synonym of type is deprecated; in a future version of numpy, it will be understood as (type, (1,)) / '(1,)type'.\n",
      "  _np_qint16 = np.dtype([(\"qint16\", np.int16, 1)])\n",
      "/Users/lynette/opt/anaconda3/lib/python3.7/site-packages/tensorflow/python/framework/dtypes.py:529: FutureWarning: Passing (type, 1) or '1type' as a synonym of type is deprecated; in a future version of numpy, it will be understood as (type, (1,)) / '(1,)type'.\n",
      "  _np_quint16 = np.dtype([(\"quint16\", np.uint16, 1)])\n",
      "/Users/lynette/opt/anaconda3/lib/python3.7/site-packages/tensorflow/python/framework/dtypes.py:530: FutureWarning: Passing (type, 1) or '1type' as a synonym of type is deprecated; in a future version of numpy, it will be understood as (type, (1,)) / '(1,)type'.\n",
      "  _np_qint32 = np.dtype([(\"qint32\", np.int32, 1)])\n",
      "/Users/lynette/opt/anaconda3/lib/python3.7/site-packages/tensorflow/python/framework/dtypes.py:535: FutureWarning: Passing (type, 1) or '1type' as a synonym of type is deprecated; in a future version of numpy, it will be understood as (type, (1,)) / '(1,)type'.\n",
      "  np_resource = np.dtype([(\"resource\", np.ubyte, 1)])\n"
     ]
    },
    {
     "name": "stdout",
     "output_type": "stream",
     "text": [
      "WARNING:tensorflow:From /Users/lynette/opt/anaconda3/lib/python3.7/site-packages/tensorflow/python/ops/resource_variable_ops.py:435: colocate_with (from tensorflow.python.framework.ops) is deprecated and will be removed in a future version.\n",
      "Instructions for updating:\n",
      "Colocations handled automatically by placer.\n",
      "WARNING:tensorflow:From /Users/lynette/opt/anaconda3/lib/python3.7/site-packages/tensorflow/python/ops/math_ops.py:3066: to_int32 (from tensorflow.python.ops.math_ops) is deprecated and will be removed in a future version.\n",
      "Instructions for updating:\n",
      "Use tf.cast instead.\n"
     ]
    }
   ],
   "source": [
    "from keras.models import load_model\n",
    " \n",
    "# load model\n",
    "model = load_model('model-single-direction.h5')\n",
    "\n",
    "\n"
   ]
  },
  {
   "cell_type": "code",
   "execution_count": 4,
   "metadata": {},
   "outputs": [
    {
     "data": {
      "image/png": "[encoded data removed]",
      "text/plain": [
       "<IPython.core.display.Image object>"
      ]
     },
     "execution_count": 4,
     "metadata": {},
     "output_type": "execute_result"
    }
   ],
   "source": [
    "from keras.models import Sequential\n",
    "from keras.layers import Dense\n",
    "from keras.utils.vis_utils import plot_model\n",
    "plot_model(model, to_file='model_plot.png', show_shapes=True, show_layer_names=True)\n"
   ]
  },
  {
   "cell_type": "code",
   "execution_count": 3,
   "metadata": {},
   "outputs": [
    {
     "name": "stdout",
     "output_type": "stream",
     "text": [
      "Collecting pydot\n",
      "  Downloading https://files.pythonhosted.org/packages/33/d1/b1479a770f66d962f545c2101630ce1d5592d90cb4f083d38862e93d16d2/pydot-1.4.1-py2.py3-none-any.whl\n",
      "Requirement already satisfied: pyparsing>=2.1.4 in /Users/lynette/opt/anaconda3/lib/python3.7/site-packages (from pydot) (2.4.2)\n",
      "Installing collected packages: pydot\n",
      "Successfully installed pydot-1.4.1\n",
      "Note: you may need to restart the kernel to use updated packages.\n"
     ]
    }
   ],
   "source": [
    "pip install pydot"
   ]
  },
  {
   "cell_type": "code",
   "execution_count": null,
   "metadata": {},
   "outputs": [],
   "source": []
  }
 ],
 "metadata": {
  "kernelspec": {
   "display_name": "Python 3",
   "language": "python",
   "name": "python3"
  },
  "language_info": {
   "codemirror_mode": {
    "name": "ipython",
    "version": 3
   },
   "file_extension": ".py",
   "mimetype": "text/x-python",
   "name": "python",
   "nbconvert_exporter": "python",
   "pygments_lexer": "ipython3",
   "version": "3.7.4"
  },
  "widgets": {
   "application/vnd.jupyter.widget-state+json": {
    "state": {},
    "version_major": 2,
    "version_minor": 0
   }
  }
 },
 "nbformat": 4,
 "nbformat_minor": 2
}

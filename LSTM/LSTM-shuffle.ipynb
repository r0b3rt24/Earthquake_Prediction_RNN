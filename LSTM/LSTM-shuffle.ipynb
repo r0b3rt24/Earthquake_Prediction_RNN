{
 "cells": [
  {
   "cell_type": "markdown",
   "metadata": {},
   "source": [
    "## Simple EDA to understand the dataset\n",
    "- whats in our dataset\n",
    "- what do they look like"
   ]
  },
  {
   "cell_type": "code",
   "execution_count": 106,
   "metadata": {},
   "outputs": [],
   "source": [
    "import pandas as pd\n",
    "import numpy as np"
   ]
  },
  {
   "cell_type": "code",
   "execution_count": 107,
   "metadata": {},
   "outputs": [
    {
     "name": "stdout",
     "output_type": "stream",
     "text": [
      "CPU times: user 1min 57s, sys: 19.3 s, total: 2min 17s\n",
      "Wall time: 2min 16s\n"
     ]
    }
   ],
   "source": [
    "%%time\n",
    "train = pd.read_csv('./data/train.csv', dtype={'acoustic_data': np.int16, 'time_to_failure': np.float32})\n",
    "# note: this process took 2min 10scs on my computer"
   ]
  },
  {
   "cell_type": "code",
   "execution_count": 108,
   "metadata": {},
   "outputs": [],
   "source": [
    "train_df = train"
   ]
  },
  {
   "cell_type": "code",
   "execution_count": 109,
   "metadata": {},
   "outputs": [
    {
     "data": {
      "text/html": [
       "<div>\n",
       "<style scoped>\n",
       "    .dataframe tbody tr th:only-of-type {\n",
       "        vertical-align: middle;\n",
       "    }\n",
       "\n",
       "    .dataframe tbody tr th {\n",
       "        vertical-align: top;\n",
       "    }\n",
       "\n",
       "    .dataframe thead th {\n",
       "        text-align: right;\n",
       "    }\n",
       "</style>\n",
       "<table border=\"1\" class=\"dataframe\">\n",
       "  <thead>\n",
       "    <tr style=\"text-align: right;\">\n",
       "      <th></th>\n",
       "      <th>acoustic_data</th>\n",
       "      <th>time_to_failure</th>\n",
       "    </tr>\n",
       "  </thead>\n",
       "  <tbody>\n",
       "    <tr>\n",
       "      <td>0</td>\n",
       "      <td>12</td>\n",
       "      <td>1.4691</td>\n",
       "    </tr>\n",
       "    <tr>\n",
       "      <td>1</td>\n",
       "      <td>6</td>\n",
       "      <td>1.4691</td>\n",
       "    </tr>\n",
       "    <tr>\n",
       "      <td>2</td>\n",
       "      <td>8</td>\n",
       "      <td>1.4691</td>\n",
       "    </tr>\n",
       "    <tr>\n",
       "      <td>3</td>\n",
       "      <td>5</td>\n",
       "      <td>1.4691</td>\n",
       "    </tr>\n",
       "    <tr>\n",
       "      <td>4</td>\n",
       "      <td>8</td>\n",
       "      <td>1.4691</td>\n",
       "    </tr>\n",
       "  </tbody>\n",
       "</table>\n",
       "</div>"
      ],
      "text/plain": [
       "   acoustic_data  time_to_failure\n",
       "0             12           1.4691\n",
       "1              6           1.4691\n",
       "2              8           1.4691\n",
       "3              5           1.4691\n",
       "4              8           1.4691"
      ]
     },
     "execution_count": 109,
     "metadata": {},
     "output_type": "execute_result"
    }
   ],
   "source": [
    "train_df.head()"
   ]
  },
  {
   "cell_type": "code",
   "execution_count": 110,
   "metadata": {},
   "outputs": [
    {
     "data": {
      "text/plain": [
       "(629145480, 2)"
      ]
     },
     "execution_count": 110,
     "metadata": {},
     "output_type": "execute_result"
    }
   ],
   "source": [
    "train_df.shape"
   ]
  },
  {
   "cell_type": "code",
   "execution_count": 8,
   "metadata": {},
   "outputs": [
    {
     "ename": "FileNotFoundError",
     "evalue": "[Errno 2] File b'./data/sample_submission.csv' does not exist: b'./data/sample_submission.csv'",
     "traceback": [
      "\u001b[0;31m---------------------------------------------------------------------------\u001b[0m",
      "\u001b[0;31mFileNotFoundError\u001b[0m                         Traceback (most recent call last)",
      "\u001b[0;32m<timed exec>\u001b[0m in \u001b[0;36m<module>\u001b[0;34m\u001b[0m\n",
      "\u001b[0;32m~/opt/anaconda3/lib/python3.7/site-packages/pandas/io/parsers.py\u001b[0m in \u001b[0;36mparser_f\u001b[0;34m(filepath_or_buffer, sep, delimiter, header, names, index_col, usecols, squeeze, prefix, mangle_dupe_cols, dtype, engine, converters, true_values, false_values, skipinitialspace, skiprows, skipfooter, nrows, na_values, keep_default_na, na_filter, verbose, skip_blank_lines, parse_dates, infer_datetime_format, keep_date_col, date_parser, dayfirst, cache_dates, iterator, chunksize, compression, thousands, decimal, lineterminator, quotechar, quoting, doublequote, escapechar, comment, encoding, dialect, error_bad_lines, warn_bad_lines, delim_whitespace, low_memory, memory_map, float_precision)\u001b[0m\n\u001b[1;32m    683\u001b[0m         )\n\u001b[1;32m    684\u001b[0m \u001b[0;34m\u001b[0m\u001b[0m\n\u001b[0;32m--> 685\u001b[0;31m         \u001b[0;32mreturn\u001b[0m \u001b[0m_read\u001b[0m\u001b[0;34m(\u001b[0m\u001b[0mfilepath_or_buffer\u001b[0m\u001b[0;34m,\u001b[0m \u001b[0mkwds\u001b[0m\u001b[0;34m)\u001b[0m\u001b[0;34m\u001b[0m\u001b[0;34m\u001b[0m\u001b[0m\n\u001b[0m\u001b[1;32m    686\u001b[0m \u001b[0;34m\u001b[0m\u001b[0m\n\u001b[1;32m    687\u001b[0m     \u001b[0mparser_f\u001b[0m\u001b[0;34m.\u001b[0m\u001b[0m__name__\u001b[0m \u001b[0;34m=\u001b[0m \u001b[0mname\u001b[0m\u001b[0;34m\u001b[0m\u001b[0;34m\u001b[0m\u001b[0m\n",
      "\u001b[0;32m~/opt/anaconda3/lib/python3.7/site-packages/pandas/io/parsers.py\u001b[0m in \u001b[0;36m_read\u001b[0;34m(filepath_or_buffer, kwds)\u001b[0m\n\u001b[1;32m    455\u001b[0m \u001b[0;34m\u001b[0m\u001b[0m\n\u001b[1;32m    456\u001b[0m     \u001b[0;31m# Create the parser.\u001b[0m\u001b[0;34m\u001b[0m\u001b[0;34m\u001b[0m\u001b[0;34m\u001b[0m\u001b[0m\n\u001b[0;32m--> 457\u001b[0;31m     \u001b[0mparser\u001b[0m \u001b[0;34m=\u001b[0m \u001b[0mTextFileReader\u001b[0m\u001b[0;34m(\u001b[0m\u001b[0mfp_or_buf\u001b[0m\u001b[0;34m,\u001b[0m \u001b[0;34m**\u001b[0m\u001b[0mkwds\u001b[0m\u001b[0;34m)\u001b[0m\u001b[0;34m\u001b[0m\u001b[0;34m\u001b[0m\u001b[0m\n\u001b[0m\u001b[1;32m    458\u001b[0m \u001b[0;34m\u001b[0m\u001b[0m\n\u001b[1;32m    459\u001b[0m     \u001b[0;32mif\u001b[0m \u001b[0mchunksize\u001b[0m \u001b[0;32mor\u001b[0m \u001b[0miterator\u001b[0m\u001b[0;34m:\u001b[0m\u001b[0;34m\u001b[0m\u001b[0;34m\u001b[0m\u001b[0m\n",
      "\u001b[0;32m~/opt/anaconda3/lib/python3.7/site-packages/pandas/io/parsers.py\u001b[0m in \u001b[0;36m__init__\u001b[0;34m(self, f, engine, **kwds)\u001b[0m\n\u001b[1;32m    893\u001b[0m             \u001b[0mself\u001b[0m\u001b[0;34m.\u001b[0m\u001b[0moptions\u001b[0m\u001b[0;34m[\u001b[0m\u001b[0;34m\"has_index_names\"\u001b[0m\u001b[0;34m]\u001b[0m \u001b[0;34m=\u001b[0m \u001b[0mkwds\u001b[0m\u001b[0;34m[\u001b[0m\u001b[0;34m\"has_index_names\"\u001b[0m\u001b[0;34m]\u001b[0m\u001b[0;34m\u001b[0m\u001b[0;34m\u001b[0m\u001b[0m\n\u001b[1;32m    894\u001b[0m \u001b[0;34m\u001b[0m\u001b[0m\n\u001b[0;32m--> 895\u001b[0;31m         \u001b[0mself\u001b[0m\u001b[0;34m.\u001b[0m\u001b[0m_make_engine\u001b[0m\u001b[0;34m(\u001b[0m\u001b[0mself\u001b[0m\u001b[0;34m.\u001b[0m\u001b[0mengine\u001b[0m\u001b[0;34m)\u001b[0m\u001b[0;34m\u001b[0m\u001b[0;34m\u001b[0m\u001b[0m\n\u001b[0m\u001b[1;32m    896\u001b[0m \u001b[0;34m\u001b[0m\u001b[0m\n\u001b[1;32m    897\u001b[0m     \u001b[0;32mdef\u001b[0m \u001b[0mclose\u001b[0m\u001b[0;34m(\u001b[0m\u001b[0mself\u001b[0m\u001b[0;34m)\u001b[0m\u001b[0;34m:\u001b[0m\u001b[0;34m\u001b[0m\u001b[0;34m\u001b[0m\u001b[0m\n",
      "\u001b[0;32m~/opt/anaconda3/lib/python3.7/site-packages/pandas/io/parsers.py\u001b[0m in \u001b[0;36m_make_engine\u001b[0;34m(self, engine)\u001b[0m\n\u001b[1;32m   1133\u001b[0m     \u001b[0;32mdef\u001b[0m \u001b[0m_make_engine\u001b[0m\u001b[0;34m(\u001b[0m\u001b[0mself\u001b[0m\u001b[0;34m,\u001b[0m \u001b[0mengine\u001b[0m\u001b[0;34m=\u001b[0m\u001b[0;34m\"c\"\u001b[0m\u001b[0;34m)\u001b[0m\u001b[0;34m:\u001b[0m\u001b[0;34m\u001b[0m\u001b[0;34m\u001b[0m\u001b[0m\n\u001b[1;32m   1134\u001b[0m         \u001b[0;32mif\u001b[0m \u001b[0mengine\u001b[0m \u001b[0;34m==\u001b[0m \u001b[0;34m\"c\"\u001b[0m\u001b[0;34m:\u001b[0m\u001b[0;34m\u001b[0m\u001b[0;34m\u001b[0m\u001b[0m\n\u001b[0;32m-> 1135\u001b[0;31m             \u001b[0mself\u001b[0m\u001b[0;34m.\u001b[0m\u001b[0m_engine\u001b[0m \u001b[0;34m=\u001b[0m \u001b[0mCParserWrapper\u001b[0m\u001b[0;34m(\u001b[0m\u001b[0mself\u001b[0m\u001b[0;34m.\u001b[0m\u001b[0mf\u001b[0m\u001b[0;34m,\u001b[0m \u001b[0;34m**\u001b[0m\u001b[0mself\u001b[0m\u001b[0;34m.\u001b[0m\u001b[0moptions\u001b[0m\u001b[0;34m)\u001b[0m\u001b[0;34m\u001b[0m\u001b[0;34m\u001b[0m\u001b[0m\n\u001b[0m\u001b[1;32m   1136\u001b[0m         \u001b[0;32melse\u001b[0m\u001b[0;34m:\u001b[0m\u001b[0;34m\u001b[0m\u001b[0;34m\u001b[0m\u001b[0m\n\u001b[1;32m   1137\u001b[0m             \u001b[0;32mif\u001b[0m \u001b[0mengine\u001b[0m \u001b[0;34m==\u001b[0m \u001b[0;34m\"python\"\u001b[0m\u001b[0;34m:\u001b[0m\u001b[0;34m\u001b[0m\u001b[0;34m\u001b[0m\u001b[0m\n",
      "\u001b[0;32m~/opt/anaconda3/lib/python3.7/site-packages/pandas/io/parsers.py\u001b[0m in \u001b[0;36m__init__\u001b[0;34m(self, src, **kwds)\u001b[0m\n\u001b[1;32m   1915\u001b[0m         \u001b[0mkwds\u001b[0m\u001b[0;34m[\u001b[0m\u001b[0;34m\"usecols\"\u001b[0m\u001b[0;34m]\u001b[0m \u001b[0;34m=\u001b[0m \u001b[0mself\u001b[0m\u001b[0;34m.\u001b[0m\u001b[0musecols\u001b[0m\u001b[0;34m\u001b[0m\u001b[0;34m\u001b[0m\u001b[0m\n\u001b[1;32m   1916\u001b[0m \u001b[0;34m\u001b[0m\u001b[0m\n\u001b[0;32m-> 1917\u001b[0;31m         \u001b[0mself\u001b[0m\u001b[0;34m.\u001b[0m\u001b[0m_reader\u001b[0m \u001b[0;34m=\u001b[0m \u001b[0mparsers\u001b[0m\u001b[0;34m.\u001b[0m\u001b[0mTextReader\u001b[0m\u001b[0;34m(\u001b[0m\u001b[0msrc\u001b[0m\u001b[0;34m,\u001b[0m \u001b[0;34m**\u001b[0m\u001b[0mkwds\u001b[0m\u001b[0;34m)\u001b[0m\u001b[0;34m\u001b[0m\u001b[0;34m\u001b[0m\u001b[0m\n\u001b[0m\u001b[1;32m   1918\u001b[0m         \u001b[0mself\u001b[0m\u001b[0;34m.\u001b[0m\u001b[0munnamed_cols\u001b[0m \u001b[0;34m=\u001b[0m \u001b[0mself\u001b[0m\u001b[0;34m.\u001b[0m\u001b[0m_reader\u001b[0m\u001b[0;34m.\u001b[0m\u001b[0munnamed_cols\u001b[0m\u001b[0;34m\u001b[0m\u001b[0;34m\u001b[0m\u001b[0m\n\u001b[1;32m   1919\u001b[0m \u001b[0;34m\u001b[0m\u001b[0m\n",
      "\u001b[0;32mpandas/_libs/parsers.pyx\u001b[0m in \u001b[0;36mpandas._libs.parsers.TextReader.__cinit__\u001b[0;34m()\u001b[0m\n",
      "\u001b[0;32mpandas/_libs/parsers.pyx\u001b[0m in \u001b[0;36mpandas._libs.parsers.TextReader._setup_parser_source\u001b[0;34m()\u001b[0m\n",
      "\u001b[0;31mFileNotFoundError\u001b[0m: [Errno 2] File b'./data/sample_submission.csv' does not exist: b'./data/sample_submission.csv'"
     ],
     "output_type": "error"
    }
   ],
   "source": [
    "%%time\n",
    "sample_sub = pd.read_csv('./data/sample_submission.csv')"
   ]
  },
  {
   "cell_type": "code",
   "execution_count": 6,
   "metadata": {},
   "outputs": [
    {
     "data": {
      "text/html": [
       "<div>\n",
       "<style scoped>\n",
       "    .dataframe tbody tr th:only-of-type {\n",
       "        vertical-align: middle;\n",
       "    }\n",
       "\n",
       "    .dataframe tbody tr th {\n",
       "        vertical-align: top;\n",
       "    }\n",
       "\n",
       "    .dataframe thead th {\n",
       "        text-align: right;\n",
       "    }\n",
       "</style>\n",
       "<table border=\"1\" class=\"dataframe\">\n",
       "  <thead>\n",
       "    <tr style=\"text-align: right;\">\n",
       "      <th></th>\n",
       "      <th>seg_id</th>\n",
       "      <th>time_to_failure</th>\n",
       "    </tr>\n",
       "  </thead>\n",
       "  <tbody>\n",
       "    <tr>\n",
       "      <th>0</th>\n",
       "      <td>seg_00030f</td>\n",
       "      <td>0</td>\n",
       "    </tr>\n",
       "    <tr>\n",
       "      <th>1</th>\n",
       "      <td>seg_0012b5</td>\n",
       "      <td>0</td>\n",
       "    </tr>\n",
       "    <tr>\n",
       "      <th>2</th>\n",
       "      <td>seg_00184e</td>\n",
       "      <td>0</td>\n",
       "    </tr>\n",
       "    <tr>\n",
       "      <th>3</th>\n",
       "      <td>seg_003339</td>\n",
       "      <td>0</td>\n",
       "    </tr>\n",
       "    <tr>\n",
       "      <th>4</th>\n",
       "      <td>seg_0042cc</td>\n",
       "      <td>0</td>\n",
       "    </tr>\n",
       "  </tbody>\n",
       "</table>\n",
       "</div>"
      ],
      "text/plain": [
       "       seg_id  time_to_failure\n",
       "0  seg_00030f                0\n",
       "1  seg_0012b5                0\n",
       "2  seg_00184e                0\n",
       "3  seg_003339                0\n",
       "4  seg_0042cc                0"
      ]
     },
     "execution_count": 6,
     "metadata": {},
     "output_type": "execute_result"
    }
   ],
   "source": [
    "sample_sub.head()"
   ]
  },
  {
   "cell_type": "code",
   "execution_count": 7,
   "metadata": {},
   "outputs": [],
   "source": [
    "sample_test = pd.read_csv('./data/test/seg_0a0fbb.csv')"
   ]
  },
  {
   "cell_type": "code",
   "execution_count": 8,
   "metadata": {},
   "outputs": [
    {
     "data": {
      "text/html": [
       "<div>\n",
       "<style scoped>\n",
       "    .dataframe tbody tr th:only-of-type {\n",
       "        vertical-align: middle;\n",
       "    }\n",
       "\n",
       "    .dataframe tbody tr th {\n",
       "        vertical-align: top;\n",
       "    }\n",
       "\n",
       "    .dataframe thead th {\n",
       "        text-align: right;\n",
       "    }\n",
       "</style>\n",
       "<table border=\"1\" class=\"dataframe\">\n",
       "  <thead>\n",
       "    <tr style=\"text-align: right;\">\n",
       "      <th></th>\n",
       "      <th>acoustic_data</th>\n",
       "    </tr>\n",
       "  </thead>\n",
       "  <tbody>\n",
       "    <tr>\n",
       "      <th>0</th>\n",
       "      <td>3</td>\n",
       "    </tr>\n",
       "    <tr>\n",
       "      <th>1</th>\n",
       "      <td>-3</td>\n",
       "    </tr>\n",
       "    <tr>\n",
       "      <th>2</th>\n",
       "      <td>-1</td>\n",
       "    </tr>\n",
       "    <tr>\n",
       "      <th>3</th>\n",
       "      <td>6</td>\n",
       "    </tr>\n",
       "    <tr>\n",
       "      <th>4</th>\n",
       "      <td>8</td>\n",
       "    </tr>\n",
       "  </tbody>\n",
       "</table>\n",
       "</div>"
      ],
      "text/plain": [
       "   acoustic_data\n",
       "0              3\n",
       "1             -3\n",
       "2             -1\n",
       "3              6\n",
       "4              8"
      ]
     },
     "execution_count": 8,
     "metadata": {},
     "output_type": "execute_result"
    }
   ],
   "source": [
    "sample_test.head()"
   ]
  },
  {
   "cell_type": "code",
   "execution_count": 9,
   "metadata": {},
   "outputs": [
    {
     "data": {
      "text/plain": [
       "(150000, 1)"
      ]
     },
     "execution_count": 9,
     "metadata": {},
     "output_type": "execute_result"
    }
   ],
   "source": [
    "sample_test.shape"
   ]
  },
  {
   "cell_type": "markdown",
   "metadata": {},
   "source": [
    "## Calculate aggregated features"
   ]
  },
  {
   "cell_type": "markdown",
   "metadata": {},
   "source": [
    "## LSTM Using Keras"
   ]
  },
  {
   "cell_type": "code",
   "execution_count": 113,
   "metadata": {},
   "outputs": [],
   "source": [
    "chunk_size = 150000\n",
    "\n",
    "chunks = int(np.floor(train_df.shape[0]/chunk_size))\n",
    "\n",
    "X_data = pd.DataFrame(index=range(chunks), dtype=np.float32, columns=['min','max','std', 'avg', 'sum', 'median', 'mean_diff', \n",
    "                                                                       'q05', 'q25', 'q75', 'q95'])\n",
    "y_data = pd.DataFrame(index=range(chunks), dtype=np.float32, columns=['ttf'])\n",
    "\n",
    "def create_features(data_chunk, X_df, chunk_no, col_name='acoustic_data'):\n",
    "    x = data_chunk[col_name]\n",
    "    X_df.loc[chunk_no, 'min'] = x.min()\n",
    "    X_df.loc[chunk_no, 'max'] = x.max()\n",
    "    X_df.loc[chunk_no, 'std'] = x.std()\n",
    "    X_df.loc[chunk_no, 'avg'] = x.mean()\n",
    "    X_df.loc[chunk_no, 'sum'] = x.sum()\n",
    "    X_df.loc[chunk_no, 'median'] = x.median()\n",
    "    X_df.loc[chunk_no, 'mean_diff'] = np.mean(np.diff(x))\n",
    "    X_df.loc[chunk_no, 'q05'] = np.quantile(x, 0.05)\n",
    "    X_df.loc[chunk_no, 'q25'] = np.quantile(x, 0.25)\n",
    "    X_df.loc[chunk_no, 'q75'] = np.quantile(x, 0.75)\n",
    "    X_df.loc[chunk_no, 'q95'] = np.quantile(x, 0.95)\n",
    "    return X_df"
   ]
  },
  {
   "cell_type": "code",
   "execution_count": 114,
   "metadata": {},
   "outputs": [
    {
     "name": "stderr",
     "output_type": "stream",
     "text": [
      "100%|██████████| 4194/4194 [01:17<00:00, 53.95it/s]\n"
     ]
    }
   ],
   "source": [
    "from tqdm import tqdm\n",
    "for chunk_no in tqdm(range(chunks)):\n",
    "    data_chunk = train_df.iloc[chunk_no*chunk_size:chunk_no*chunk_size+chunk_size]\n",
    "    X_data = create_features(data_chunk, X_data, chunk_no)\n",
    "    y = data_chunk['time_to_failure'].values[-1]\n",
    "    y_data.loc[chunk_no, 'ttf'] = y"
   ]
  },
  {
   "cell_type": "code",
   "execution_count": 115,
   "metadata": {},
   "outputs": [
    {
     "name": "stdout",
     "output_type": "stream",
     "text": [
      "(4194, 11)\n",
      "(4194, 1)\n",
      "11\n"
     ]
    },
    {
     "data": {
      "text/html": [
       "<div>\n",
       "<style scoped>\n",
       "    .dataframe tbody tr th:only-of-type {\n",
       "        vertical-align: middle;\n",
       "    }\n",
       "\n",
       "    .dataframe tbody tr th {\n",
       "        vertical-align: top;\n",
       "    }\n",
       "\n",
       "    .dataframe thead th {\n",
       "        text-align: right;\n",
       "    }\n",
       "</style>\n",
       "<table border=\"1\" class=\"dataframe\">\n",
       "  <thead>\n",
       "    <tr style=\"text-align: right;\">\n",
       "      <th></th>\n",
       "      <th>min</th>\n",
       "      <th>max</th>\n",
       "      <th>std</th>\n",
       "      <th>avg</th>\n",
       "      <th>sum</th>\n",
       "      <th>median</th>\n",
       "      <th>mean_diff</th>\n",
       "      <th>q05</th>\n",
       "      <th>q25</th>\n",
       "      <th>q75</th>\n",
       "      <th>q95</th>\n",
       "    </tr>\n",
       "  </thead>\n",
       "  <tbody>\n",
       "    <tr>\n",
       "      <td>0</td>\n",
       "      <td>-98.0</td>\n",
       "      <td>104.0</td>\n",
       "      <td>5.101106</td>\n",
       "      <td>4.884113</td>\n",
       "      <td>732617.0</td>\n",
       "      <td>5.0</td>\n",
       "      <td>-0.000080</td>\n",
       "      <td>-2.0</td>\n",
       "      <td>3.0</td>\n",
       "      <td>7.0</td>\n",
       "      <td>11.0</td>\n",
       "    </tr>\n",
       "    <tr>\n",
       "      <td>1</td>\n",
       "      <td>-154.0</td>\n",
       "      <td>181.0</td>\n",
       "      <td>6.588824</td>\n",
       "      <td>4.725767</td>\n",
       "      <td>708865.0</td>\n",
       "      <td>5.0</td>\n",
       "      <td>0.000000</td>\n",
       "      <td>-2.0</td>\n",
       "      <td>2.0</td>\n",
       "      <td>7.0</td>\n",
       "      <td>12.0</td>\n",
       "    </tr>\n",
       "    <tr>\n",
       "      <td>2</td>\n",
       "      <td>-106.0</td>\n",
       "      <td>140.0</td>\n",
       "      <td>6.967397</td>\n",
       "      <td>4.906394</td>\n",
       "      <td>735959.0</td>\n",
       "      <td>5.0</td>\n",
       "      <td>-0.000013</td>\n",
       "      <td>-3.0</td>\n",
       "      <td>2.0</td>\n",
       "      <td>7.0</td>\n",
       "      <td>13.0</td>\n",
       "    </tr>\n",
       "    <tr>\n",
       "      <td>3</td>\n",
       "      <td>-199.0</td>\n",
       "      <td>197.0</td>\n",
       "      <td>6.922305</td>\n",
       "      <td>4.902240</td>\n",
       "      <td>735336.0</td>\n",
       "      <td>5.0</td>\n",
       "      <td>0.000000</td>\n",
       "      <td>-2.0</td>\n",
       "      <td>2.0</td>\n",
       "      <td>7.0</td>\n",
       "      <td>12.0</td>\n",
       "    </tr>\n",
       "    <tr>\n",
       "      <td>4</td>\n",
       "      <td>-126.0</td>\n",
       "      <td>145.0</td>\n",
       "      <td>7.301110</td>\n",
       "      <td>4.908720</td>\n",
       "      <td>736308.0</td>\n",
       "      <td>5.0</td>\n",
       "      <td>-0.000007</td>\n",
       "      <td>-2.0</td>\n",
       "      <td>2.0</td>\n",
       "      <td>7.0</td>\n",
       "      <td>12.0</td>\n",
       "    </tr>\n",
       "  </tbody>\n",
       "</table>\n",
       "</div>"
      ],
      "text/plain": [
       "     min    max       std       avg       sum  median  mean_diff  q05  q25  \\\n",
       "0  -98.0  104.0  5.101106  4.884113  732617.0     5.0  -0.000080 -2.0  3.0   \n",
       "1 -154.0  181.0  6.588824  4.725767  708865.0     5.0   0.000000 -2.0  2.0   \n",
       "2 -106.0  140.0  6.967397  4.906394  735959.0     5.0  -0.000013 -3.0  2.0   \n",
       "3 -199.0  197.0  6.922305  4.902240  735336.0     5.0   0.000000 -2.0  2.0   \n",
       "4 -126.0  145.0  7.301110  4.908720  736308.0     5.0  -0.000007 -2.0  2.0   \n",
       "\n",
       "   q75   q95  \n",
       "0  7.0  11.0  \n",
       "1  7.0  12.0  \n",
       "2  7.0  13.0  \n",
       "3  7.0  12.0  \n",
       "4  7.0  12.0  "
      ]
     },
     "execution_count": 115,
     "metadata": {},
     "output_type": "execute_result"
    }
   ],
   "source": [
    "print(X_data.shape)\n",
    "print(y_data.shape)\n",
    "print(X_data.shape[1])\n",
    "X_data.head()"
   ]
  },
  {
   "cell_type": "code",
   "execution_count": 116,
   "metadata": {},
   "outputs": [
    {
     "data": {
      "text/plain": [
       "(3355, 11)"
      ]
     },
     "execution_count": 116,
     "metadata": {},
     "output_type": "execute_result"
    }
   ],
   "source": [
    "from sklearn.model_selection import train_test_split\n",
    "X_train, X_test, y_train, y_test = train_test_split(X_data.values, y_data.values, test_size=0.2)\n",
    "# X_test\n",
    "# X_data.values\n",
    "X_train.shape"
   ]
  },
  {
   "cell_type": "code",
   "execution_count": 121,
   "metadata": {},
   "outputs": [],
   "source": [
    "from keras.models import Sequential\n",
    "from keras.layers import Dense, Dropout, Flatten, LSTM, Bidirectional\n",
    "from keras.optimizers import adam\n",
    "from keras.callbacks import ModelCheckpoint\n",
    "\n",
    "model = Sequential()\n",
    "model.add(Bidirectional(LSTM(512, kernel_initializer=\"RandomUniform\", input_shape= (X_train.shape[1], 1), return_sequences = True)))\n",
    "#model.add(CuDNNGRU(64, kernel_initializer=\"RandomUniform\", input_shape= (X_train.shape[1], 1)))\n",
    "model.add(Dropout(0.2))\n",
    "model.add(LSTM(256, dropout = 0.3, recurrent_dropout = 0.3))\n",
    "model.add(Dropout(0.2))\n",
    "model.add(Dense(64, activation=\"relu\"))\n",
    "model.add(Dropout(0.2))\n",
    "model.add(Dense(64, activation=\"relu\"))\n",
    "model.add(Dropout(0.2))\n",
    "# model.add(Flatten())\n",
    "model.add(Dense(1))\n"
   ]
  },
  {
   "cell_type": "code",
   "execution_count": 122,
   "metadata": {},
   "outputs": [
    {
     "name": "stdout",
     "output_type": "stream",
     "text": [
      "Train on 2684 samples, validate on 671 samples\n",
      "Epoch 1/150\n",
      "2684/2684 [==============================] - 24s 9ms/step - loss: 5.2773 - mae: 5.2773 - mse: 40.8270 - val_loss: 4.5982 - val_mae: 4.5982 - val_mse: 32.5872\n",
      "Epoch 2/150\n",
      "2684/2684 [==============================] - 18s 7ms/step - loss: 4.2561 - mae: 4.2561 - mse: 29.2483 - val_loss: 3.5736 - val_mae: 3.5736 - val_mse: 19.9731\n",
      "Epoch 3/150\n",
      "2684/2684 [==============================] - 20s 7ms/step - loss: 3.5292 - mae: 3.5292 - mse: 20.1540 - val_loss: 3.1142 - val_mae: 3.1142 - val_mse: 14.4471\n",
      "Epoch 4/150\n",
      "2684/2684 [==============================] - 20s 7ms/step - loss: 3.2860 - mae: 3.2860 - mse: 17.1937 - val_loss: 3.0366 - val_mae: 3.0366 - val_mse: 13.3939\n",
      "Epoch 5/150\n",
      "2684/2684 [==============================] - 20s 7ms/step - loss: 3.1765 - mae: 3.1765 - mse: 15.8474 - val_loss: 3.0293 - val_mae: 3.0293 - val_mse: 13.2726\n",
      "Epoch 6/150\n",
      "2684/2684 [==============================] - 19s 7ms/step - loss: 3.2178 - mae: 3.2178 - mse: 16.1274 - val_loss: 3.0246 - val_mae: 3.0246 - val_mse: 13.2095\n",
      "Epoch 7/150\n",
      "2684/2684 [==============================] - 18s 7ms/step - loss: 3.2003 - mae: 3.2003 - mse: 16.0055 - val_loss: 3.0209 - val_mae: 3.0209 - val_mse: 13.2276\n",
      "Epoch 8/150\n",
      "2684/2684 [==============================] - 18s 7ms/step - loss: 3.1984 - mae: 3.1984 - mse: 15.5583 - val_loss: 3.0138 - val_mae: 3.0138 - val_mse: 13.1546\n",
      "Epoch 9/150\n",
      "2684/2684 [==============================] - 23s 9ms/step - loss: 3.1897 - mae: 3.1897 - mse: 15.8327 - val_loss: 3.0042 - val_mae: 3.0042 - val_mse: 13.0958\n",
      "Epoch 10/150\n",
      "2684/2684 [==============================] - 28s 10ms/step - loss: 3.1669 - mae: 3.1669 - mse: 15.2780 - val_loss: 2.9874 - val_mae: 2.9874 - val_mse: 13.0010\n",
      "Epoch 11/150\n",
      "2684/2684 [==============================] - 22s 8ms/step - loss: 3.1242 - mae: 3.1242 - mse: 15.2402 - val_loss: 2.9444 - val_mae: 2.9444 - val_mse: 12.7444\n",
      "Epoch 12/150\n",
      "2684/2684 [==============================] - 19s 7ms/step - loss: 3.1131 - mae: 3.1131 - mse: 15.1213 - val_loss: 2.8579 - val_mae: 2.8579 - val_mse: 12.2881\n",
      "Epoch 13/150\n",
      "2684/2684 [==============================] - 19s 7ms/step - loss: 2.9898 - mae: 2.9898 - mse: 14.1001 - val_loss: 2.7559 - val_mae: 2.7559 - val_mse: 11.4533\n",
      "Epoch 14/150\n",
      "2684/2684 [==============================] - 22s 8ms/step - loss: 2.9721 - mae: 2.9721 - mse: 14.0216 - val_loss: 2.7064 - val_mae: 2.7064 - val_mse: 11.1323\n",
      "Epoch 15/150\n",
      "2684/2684 [==============================] - 21s 8ms/step - loss: 2.9169 - mae: 2.9169 - mse: 13.7108 - val_loss: 2.6522 - val_mae: 2.6522 - val_mse: 10.9411\n",
      "Epoch 16/150\n",
      "2684/2684 [==============================] - 22s 8ms/step - loss: 2.8971 - mae: 2.8971 - mse: 13.6233 - val_loss: 2.6403 - val_mae: 2.6403 - val_mse: 10.8921\n",
      "Epoch 17/150\n",
      "2684/2684 [==============================] - 20s 7ms/step - loss: 2.8815 - mae: 2.8815 - mse: 13.2022 - val_loss: 2.6304 - val_mae: 2.6304 - val_mse: 10.8633\n",
      "Epoch 18/150\n",
      "2684/2684 [==============================] - 19s 7ms/step - loss: 2.9266 - mae: 2.9266 - mse: 13.6005 - val_loss: 2.6281 - val_mae: 2.6281 - val_mse: 10.7966\n",
      "Epoch 19/150\n",
      "2684/2684 [==============================] - 20s 8ms/step - loss: 2.8823 - mae: 2.8823 - mse: 13.3126 - val_loss: 2.6409 - val_mae: 2.6409 - val_mse: 10.7793\n",
      "Epoch 20/150\n",
      "2684/2684 [==============================] - 20s 7ms/step - loss: 2.8867 - mae: 2.8867 - mse: 13.3260 - val_loss: 2.6508 - val_mae: 2.6508 - val_mse: 10.7887\n",
      "Epoch 21/150\n",
      "2684/2684 [==============================] - 18s 7ms/step - loss: 2.8981 - mae: 2.8981 - mse: 13.5418 - val_loss: 2.6258 - val_mae: 2.6258 - val_mse: 10.7090\n",
      "Epoch 22/150\n",
      "2684/2684 [==============================] - 18s 7ms/step - loss: 2.8382 - mae: 2.8382 - mse: 12.8998 - val_loss: 2.6197 - val_mae: 2.6197 - val_mse: 10.6827\n",
      "Epoch 23/150\n",
      "2684/2684 [==============================] - 18s 7ms/step - loss: 2.8585 - mae: 2.8585 - mse: 13.0286 - val_loss: 2.6139 - val_mae: 2.6139 - val_mse: 10.6928\n",
      "Epoch 24/150\n",
      "2684/2684 [==============================] - 19s 7ms/step - loss: 2.8624 - mae: 2.8624 - mse: 13.1086 - val_loss: 2.6290 - val_mae: 2.6290 - val_mse: 10.6564\n",
      "Epoch 25/150\n",
      "2684/2684 [==============================] - 19s 7ms/step - loss: 2.8593 - mae: 2.8593 - mse: 13.2555 - val_loss: 2.6063 - val_mae: 2.6063 - val_mse: 10.6677\n",
      "Epoch 26/150\n",
      "2684/2684 [==============================] - 19s 7ms/step - loss: 2.8434 - mae: 2.8434 - mse: 13.0602 - val_loss: 2.6062 - val_mae: 2.6062 - val_mse: 10.6628\n",
      "Epoch 27/150\n",
      "2684/2684 [==============================] - 19s 7ms/step - loss: 2.8182 - mae: 2.8182 - mse: 12.7343 - val_loss: 2.6044 - val_mae: 2.6044 - val_mse: 10.6475\n",
      "Epoch 28/150\n",
      "2684/2684 [==============================] - 19s 7ms/step - loss: 2.7925 - mae: 2.7925 - mse: 12.6175 - val_loss: 2.5991 - val_mae: 2.5991 - val_mse: 10.6289\n",
      "Epoch 29/150\n",
      "2684/2684 [==============================] - 19s 7ms/step - loss: 2.8283 - mae: 2.8283 - mse: 12.9008 - val_loss: 2.6039 - val_mae: 2.6039 - val_mse: 10.5550\n",
      "Epoch 30/150\n",
      "2684/2684 [==============================] - 19s 7ms/step - loss: 2.8073 - mae: 2.8073 - mse: 12.4731 - val_loss: 2.6014 - val_mae: 2.6014 - val_mse: 10.5389\n",
      "Epoch 31/150\n",
      "2684/2684 [==============================] - 19s 7ms/step - loss: 2.7982 - mae: 2.7982 - mse: 12.5975 - val_loss: 2.6059 - val_mae: 2.6059 - val_mse: 10.5287\n",
      "Epoch 32/150\n",
      "2684/2684 [==============================] - 19s 7ms/step - loss: 2.8207 - mae: 2.8207 - mse: 12.8453 - val_loss: 2.6016 - val_mae: 2.6016 - val_mse: 10.5010\n",
      "Epoch 33/150\n",
      "2684/2684 [==============================] - 20s 7ms/step - loss: 2.8098 - mae: 2.8098 - mse: 12.6210 - val_loss: 2.5863 - val_mae: 2.5863 - val_mse: 10.5510\n",
      "Epoch 34/150\n",
      "2684/2684 [==============================] - 20s 7ms/step - loss: 2.8002 - mae: 2.8002 - mse: 12.5782 - val_loss: 2.5872 - val_mae: 2.5872 - val_mse: 10.6732\n",
      "Epoch 35/150\n",
      "2684/2684 [==============================] - 20s 7ms/step - loss: 2.8121 - mae: 2.8121 - mse: 12.7456 - val_loss: 2.6140 - val_mae: 2.6140 - val_mse: 11.0936\n",
      "Epoch 36/150\n",
      "2684/2684 [==============================] - 19s 7ms/step - loss: 2.7821 - mae: 2.7821 - mse: 12.6375 - val_loss: 2.5785 - val_mae: 2.5785 - val_mse: 10.4910\n",
      "Epoch 37/150\n",
      "2684/2684 [==============================] - 19s 7ms/step - loss: 2.7603 - mae: 2.7603 - mse: 12.2244 - val_loss: 2.5752 - val_mae: 2.5752 - val_mse: 10.5284\n",
      "Epoch 38/150\n",
      "2684/2684 [==============================] - 19s 7ms/step - loss: 2.7364 - mae: 2.7364 - mse: 12.1290 - val_loss: 2.5784 - val_mae: 2.5784 - val_mse: 10.3757\n",
      "Epoch 39/150\n",
      "2684/2684 [==============================] - 19s 7ms/step - loss: 2.7587 - mae: 2.7587 - mse: 12.4182 - val_loss: 2.5636 - val_mae: 2.5636 - val_mse: 10.3775\n",
      "Epoch 40/150\n",
      "2684/2684 [==============================] - 17s 6ms/step - loss: 2.7657 - mae: 2.7657 - mse: 12.3686 - val_loss: 2.5570 - val_mae: 2.5570 - val_mse: 10.4305\n",
      "Epoch 41/150\n",
      "2684/2684 [==============================] - 17s 6ms/step - loss: 2.7563 - mae: 2.7563 - mse: 12.2506 - val_loss: 2.5532 - val_mae: 2.5532 - val_mse: 10.3187\n",
      "Epoch 42/150\n",
      "2684/2684 [==============================] - 18s 7ms/step - loss: 2.7725 - mae: 2.7725 - mse: 12.3229 - val_loss: 2.5570 - val_mae: 2.5570 - val_mse: 10.2342\n",
      "Epoch 43/150\n",
      "2684/2684 [==============================] - 18s 7ms/step - loss: 2.7648 - mae: 2.7648 - mse: 12.3624 - val_loss: 2.5826 - val_mae: 2.5826 - val_mse: 10.2693\n",
      "Epoch 44/150\n",
      "2684/2684 [==============================] - 19s 7ms/step - loss: 2.7579 - mae: 2.7579 - mse: 12.1966 - val_loss: 2.5344 - val_mae: 2.5344 - val_mse: 10.1994\n",
      "Epoch 45/150\n",
      "2684/2684 [==============================] - 19s 7ms/step - loss: 2.7782 - mae: 2.7782 - mse: 12.4162 - val_loss: 2.5394 - val_mae: 2.5394 - val_mse: 10.5028\n",
      "Epoch 46/150\n",
      "2684/2684 [==============================] - 18s 7ms/step - loss: 2.7108 - mae: 2.7108 - mse: 12.0444 - val_loss: 2.5211 - val_mae: 2.5211 - val_mse: 10.3094\n",
      "Epoch 47/150\n",
      "2684/2684 [==============================] - 19s 7ms/step - loss: 2.7126 - mae: 2.7126 - mse: 12.0710 - val_loss: 2.5341 - val_mae: 2.5341 - val_mse: 10.0631\n",
      "Epoch 48/150\n",
      "2684/2684 [==============================] - 19s 7ms/step - loss: 2.7229 - mae: 2.7229 - mse: 11.9646 - val_loss: 2.5388 - val_mae: 2.5388 - val_mse: 10.0623\n"
     ]
    },
    {
     "name": "stdout",
     "output_type": "stream",
     "text": [
      "Epoch 49/150\n",
      "2684/2684 [==============================] - 19s 7ms/step - loss: 2.7353 - mae: 2.7353 - mse: 12.2348 - val_loss: 2.5117 - val_mae: 2.5117 - val_mse: 10.4061\n",
      "Epoch 50/150\n",
      "2684/2684 [==============================] - 19s 7ms/step - loss: 2.7132 - mae: 2.7132 - mse: 11.9733 - val_loss: 2.4846 - val_mae: 2.4846 - val_mse: 9.9606\n",
      "Epoch 51/150\n",
      "2684/2684 [==============================] - 19s 7ms/step - loss: 2.7264 - mae: 2.7264 - mse: 12.1896 - val_loss: 2.4925 - val_mae: 2.4925 - val_mse: 10.3089\n",
      "Epoch 52/150\n",
      "2684/2684 [==============================] - 20s 7ms/step - loss: 2.6802 - mae: 2.6802 - mse: 11.8085 - val_loss: 2.4812 - val_mae: 2.4812 - val_mse: 9.8221\n",
      "Epoch 53/150\n",
      "2684/2684 [==============================] - 19s 7ms/step - loss: 2.6500 - mae: 2.6500 - mse: 11.4969 - val_loss: 2.4551 - val_mae: 2.4551 - val_mse: 9.9734\n",
      "Epoch 54/150\n",
      "2684/2684 [==============================] - 19s 7ms/step - loss: 2.6343 - mae: 2.6343 - mse: 11.2996 - val_loss: 2.5143 - val_mae: 2.5143 - val_mse: 9.8385\n",
      "Epoch 55/150\n",
      "2684/2684 [==============================] - 19s 7ms/step - loss: 2.5998 - mae: 2.5998 - mse: 11.2049 - val_loss: 2.4403 - val_mae: 2.4403 - val_mse: 9.5823\n",
      "Epoch 56/150\n",
      "2684/2684 [==============================] - 19s 7ms/step - loss: 2.6283 - mae: 2.6283 - mse: 11.4390 - val_loss: 2.4201 - val_mae: 2.4201 - val_mse: 9.5010\n",
      "Epoch 57/150\n",
      "2684/2684 [==============================] - 19s 7ms/step - loss: 2.5973 - mae: 2.5973 - mse: 11.1493 - val_loss: 2.3982 - val_mae: 2.3982 - val_mse: 9.6016\n",
      "Epoch 58/150\n",
      "2684/2684 [==============================] - 19s 7ms/step - loss: 2.5915 - mae: 2.5915 - mse: 11.2074 - val_loss: 2.3845 - val_mae: 2.3845 - val_mse: 9.5537\n",
      "Epoch 59/150\n",
      "2684/2684 [==============================] - 19s 7ms/step - loss: 2.5873 - mae: 2.5873 - mse: 11.0185 - val_loss: 2.4008 - val_mae: 2.4008 - val_mse: 9.2713\n",
      "Epoch 60/150\n",
      "2684/2684 [==============================] - 19s 7ms/step - loss: 2.5508 - mae: 2.5508 - mse: 10.8862 - val_loss: 2.3509 - val_mae: 2.3509 - val_mse: 9.1832\n",
      "Epoch 61/150\n",
      "2684/2684 [==============================] - 19s 7ms/step - loss: 2.5717 - mae: 2.5717 - mse: 10.9619 - val_loss: 2.3708 - val_mae: 2.3708 - val_mse: 9.1020\n",
      "Epoch 62/150\n",
      "2684/2684 [==============================] - 19s 7ms/step - loss: 2.5493 - mae: 2.5493 - mse: 10.8768 - val_loss: 2.3463 - val_mae: 2.3463 - val_mse: 8.9713\n",
      "Epoch 63/150\n",
      "2684/2684 [==============================] - 19s 7ms/step - loss: 2.5751 - mae: 2.5751 - mse: 10.9409 - val_loss: 2.3140 - val_mae: 2.3140 - val_mse: 8.8827\n",
      "Epoch 64/150\n",
      "2684/2684 [==============================] - 19s 7ms/step - loss: 2.5053 - mae: 2.5053 - mse: 10.4984 - val_loss: 2.2887 - val_mae: 2.2887 - val_mse: 8.8899\n",
      "Epoch 65/150\n",
      "2684/2684 [==============================] - 19s 7ms/step - loss: 2.4984 - mae: 2.4984 - mse: 10.6283 - val_loss: 2.2802 - val_mae: 2.2802 - val_mse: 8.7161\n",
      "Epoch 66/150\n",
      "2684/2684 [==============================] - 19s 7ms/step - loss: 2.4923 - mae: 2.4923 - mse: 10.5535 - val_loss: 2.3451 - val_mae: 2.3451 - val_mse: 8.8760\n",
      "Epoch 67/150\n",
      "2684/2684 [==============================] - 19s 7ms/step - loss: 2.4864 - mae: 2.4864 - mse: 10.4530 - val_loss: 2.2484 - val_mae: 2.2484 - val_mse: 8.6005\n",
      "Epoch 68/150\n",
      "2684/2684 [==============================] - 20s 8ms/step - loss: 2.4604 - mae: 2.4604 - mse: 10.3250 - val_loss: 2.3891 - val_mae: 2.3891 - val_mse: 10.1575\n",
      "Epoch 69/150\n",
      "2684/2684 [==============================] - 19s 7ms/step - loss: 2.4992 - mae: 2.4992 - mse: 10.5351 - val_loss: 2.2291 - val_mae: 2.2291 - val_mse: 8.4411\n",
      "Epoch 70/150\n",
      "2684/2684 [==============================] - 19s 7ms/step - loss: 2.4418 - mae: 2.4418 - mse: 10.0449 - val_loss: 2.2156 - val_mae: 2.2156 - val_mse: 8.4361\n",
      "Epoch 71/150\n",
      "2684/2684 [==============================] - 20s 7ms/step - loss: 2.4311 - mae: 2.4311 - mse: 9.9491 - val_loss: 2.2023 - val_mae: 2.2023 - val_mse: 8.3237\n",
      "Epoch 72/150\n",
      "2684/2684 [==============================] - 19s 7ms/step - loss: 2.4398 - mae: 2.4398 - mse: 10.0926 - val_loss: 2.2617 - val_mae: 2.2617 - val_mse: 8.4471\n",
      "Epoch 73/150\n",
      "2684/2684 [==============================] - 19s 7ms/step - loss: 2.4152 - mae: 2.4152 - mse: 10.1210 - val_loss: 2.1901 - val_mae: 2.1901 - val_mse: 8.4226\n",
      "Epoch 74/150\n",
      "2684/2684 [==============================] - 19s 7ms/step - loss: 2.3849 - mae: 2.3849 - mse: 9.8805 - val_loss: 2.1989 - val_mae: 2.1989 - val_mse: 8.2224\n",
      "Epoch 75/150\n",
      "2684/2684 [==============================] - 19s 7ms/step - loss: 2.3541 - mae: 2.3541 - mse: 9.4097 - val_loss: 2.1927 - val_mae: 2.1927 - val_mse: 8.2166\n",
      "Epoch 76/150\n",
      "2684/2684 [==============================] - 19s 7ms/step - loss: 2.3934 - mae: 2.3934 - mse: 9.9904 - val_loss: 2.1721 - val_mae: 2.1721 - val_mse: 8.2892\n",
      "Epoch 77/150\n",
      "2684/2684 [==============================] - 19s 7ms/step - loss: 2.3708 - mae: 2.3708 - mse: 9.6335 - val_loss: 2.1712 - val_mae: 2.1712 - val_mse: 8.0981\n",
      "Epoch 78/150\n",
      "2684/2684 [==============================] - 19s 7ms/step - loss: 2.3681 - mae: 2.3681 - mse: 9.6242 - val_loss: 2.1641 - val_mae: 2.1641 - val_mse: 8.0782\n",
      "Epoch 79/150\n",
      "2684/2684 [==============================] - 19s 7ms/step - loss: 2.3482 - mae: 2.3482 - mse: 9.6209 - val_loss: 2.1586 - val_mae: 2.1586 - val_mse: 8.1708\n",
      "Epoch 80/150\n",
      "2684/2684 [==============================] - 19s 7ms/step - loss: 2.3427 - mae: 2.3427 - mse: 9.6243 - val_loss: 2.2178 - val_mae: 2.2178 - val_mse: 8.2644\n",
      "Epoch 81/150\n",
      "2684/2684 [==============================] - 19s 7ms/step - loss: 2.3365 - mae: 2.3365 - mse: 9.4139 - val_loss: 2.1721 - val_mae: 2.1721 - val_mse: 8.1136\n",
      "Epoch 82/150\n",
      "2684/2684 [==============================] - 19s 7ms/step - loss: 2.3786 - mae: 2.3786 - mse: 9.8632 - val_loss: 2.1626 - val_mae: 2.1626 - val_mse: 8.0773\n",
      "Epoch 83/150\n",
      "2684/2684 [==============================] - 19s 7ms/step - loss: 2.3131 - mae: 2.3131 - mse: 9.2178 - val_loss: 2.2100 - val_mae: 2.2100 - val_mse: 8.2233\n",
      "Epoch 84/150\n",
      "2684/2684 [==============================] - 19s 7ms/step - loss: 2.2915 - mae: 2.2915 - mse: 9.0150 - val_loss: 2.1697 - val_mae: 2.1697 - val_mse: 8.0731\n",
      "Epoch 85/150\n",
      "2684/2684 [==============================] - 17s 6ms/step - loss: 2.3228 - mae: 2.3228 - mse: 9.4129 - val_loss: 2.1583 - val_mae: 2.1583 - val_mse: 8.1992\n",
      "Epoch 86/150\n",
      "2684/2684 [==============================] - 17s 6ms/step - loss: 2.3429 - mae: 2.3429 - mse: 9.3673 - val_loss: 2.1490 - val_mae: 2.1490 - val_mse: 8.0771\n",
      "Epoch 87/150\n",
      "2684/2684 [==============================] - 17s 6ms/step - loss: 2.3040 - mae: 2.3040 - mse: 9.2634 - val_loss: 2.1843 - val_mae: 2.1843 - val_mse: 8.0968\n",
      "Epoch 88/150\n",
      "2684/2684 [==============================] - 18s 7ms/step - loss: 2.3473 - mae: 2.3473 - mse: 9.2806 - val_loss: 2.1654 - val_mae: 2.1654 - val_mse: 8.2880\n",
      "Epoch 89/150\n",
      "2684/2684 [==============================] - 20s 7ms/step - loss: 2.3351 - mae: 2.3351 - mse: 9.2678 - val_loss: 2.1503 - val_mae: 2.1503 - val_mse: 8.0255\n",
      "Epoch 90/150\n",
      "2684/2684 [==============================] - 19s 7ms/step - loss: 2.3007 - mae: 2.3007 - mse: 9.1572 - val_loss: 2.1506 - val_mae: 2.1506 - val_mse: 7.9825\n",
      "Epoch 91/150\n",
      "2684/2684 [==============================] - 19s 7ms/step - loss: 2.3135 - mae: 2.3135 - mse: 9.2914 - val_loss: 2.1676 - val_mae: 2.1676 - val_mse: 8.3172\n",
      "Epoch 92/150\n",
      "2684/2684 [==============================] - 19s 7ms/step - loss: 2.3093 - mae: 2.3093 - mse: 9.1499 - val_loss: 2.1564 - val_mae: 2.1564 - val_mse: 8.0576\n",
      "Epoch 93/150\n",
      "2684/2684 [==============================] - 19s 7ms/step - loss: 2.3595 - mae: 2.3595 - mse: 9.5823 - val_loss: 2.1936 - val_mae: 2.1936 - val_mse: 8.5879\n",
      "Epoch 94/150\n",
      "2684/2684 [==============================] - 19s 7ms/step - loss: 2.3033 - mae: 2.3033 - mse: 9.1384 - val_loss: 2.1496 - val_mae: 2.1496 - val_mse: 7.9609\n",
      "Epoch 95/150\n",
      "2684/2684 [==============================] - 19s 7ms/step - loss: 2.2836 - mae: 2.2836 - mse: 9.0746 - val_loss: 2.1481 - val_mae: 2.1481 - val_mse: 8.0181\n",
      "Epoch 96/150\n",
      "2684/2684 [==============================] - 19s 7ms/step - loss: 2.3013 - mae: 2.3013 - mse: 9.1969 - val_loss: 2.1430 - val_mae: 2.1430 - val_mse: 8.0065\n",
      "Epoch 97/150\n",
      "2684/2684 [==============================] - 19s 7ms/step - loss: 2.3346 - mae: 2.3346 - mse: 9.2357 - val_loss: 2.1690 - val_mae: 2.1690 - val_mse: 8.3314\n",
      "Epoch 98/150\n",
      "2684/2684 [==============================] - 19s 7ms/step - loss: 2.2900 - mae: 2.2900 - mse: 9.1356 - val_loss: 2.1491 - val_mae: 2.1491 - val_mse: 8.0232\n",
      "Epoch 99/150\n",
      "2684/2684 [==============================] - 19s 7ms/step - loss: 2.2784 - mae: 2.2784 - mse: 8.8356 - val_loss: 2.2023 - val_mae: 2.2023 - val_mse: 8.1928\n",
      "Epoch 100/150\n",
      "2684/2684 [==============================] - 20s 7ms/step - loss: 2.3102 - mae: 2.3102 - mse: 9.2398 - val_loss: 2.1521 - val_mae: 2.1521 - val_mse: 8.0350\n",
      "Epoch 101/150\n",
      "2684/2684 [==============================] - 18s 7ms/step - loss: 2.2855 - mae: 2.2855 - mse: 9.0624 - val_loss: 2.1579 - val_mae: 2.1579 - val_mse: 8.2037\n",
      "Epoch 102/150\n",
      "2684/2684 [==============================] - 19s 7ms/step - loss: 2.2865 - mae: 2.2865 - mse: 9.0101 - val_loss: 2.1480 - val_mae: 2.1480 - val_mse: 8.0990\n",
      "Epoch 103/150\n",
      "2684/2684 [==============================] - 19s 7ms/step - loss: 2.2905 - mae: 2.2905 - mse: 9.1779 - val_loss: 2.1646 - val_mae: 2.1646 - val_mse: 8.2866\n",
      "Epoch 104/150\n",
      "2684/2684 [==============================] - 19s 7ms/step - loss: 2.2845 - mae: 2.2845 - mse: 9.0279 - val_loss: 2.1525 - val_mae: 2.1525 - val_mse: 7.9269\n",
      "Epoch 105/150\n",
      "2684/2684 [==============================] - 20s 7ms/step - loss: 2.3033 - mae: 2.3033 - mse: 9.1063 - val_loss: 2.1503 - val_mae: 2.1503 - val_mse: 8.1355\n",
      "Epoch 106/150\n",
      "2684/2684 [==============================] - 20s 7ms/step - loss: 2.3035 - mae: 2.3035 - mse: 9.1468 - val_loss: 2.1420 - val_mae: 2.1420 - val_mse: 8.0470\n",
      "Epoch 107/150\n",
      "2684/2684 [==============================] - 19s 7ms/step - loss: 2.2820 - mae: 2.2820 - mse: 8.8906 - val_loss: 2.1599 - val_mae: 2.1599 - val_mse: 7.9275\n",
      "Epoch 108/150\n",
      "2684/2684 [==============================] - 18s 7ms/step - loss: 2.2876 - mae: 2.2876 - mse: 8.9861 - val_loss: 2.1409 - val_mae: 2.1409 - val_mse: 7.9999\n",
      "Epoch 109/150\n",
      "2684/2684 [==============================] - 18s 7ms/step - loss: 2.2620 - mae: 2.2620 - mse: 9.0233 - val_loss: 2.1349 - val_mae: 2.1349 - val_mse: 7.8942\n",
      "Epoch 110/150\n",
      "2684/2684 [==============================] - 19s 7ms/step - loss: 2.3050 - mae: 2.3050 - mse: 9.1221 - val_loss: 2.1406 - val_mae: 2.1406 - val_mse: 7.9055\n",
      "Epoch 111/150\n",
      "2684/2684 [==============================] - 20s 7ms/step - loss: 2.2872 - mae: 2.2872 - mse: 9.1352 - val_loss: 2.1510 - val_mae: 2.1510 - val_mse: 7.8917\n",
      "Epoch 112/150\n",
      "2684/2684 [==============================] - 21s 8ms/step - loss: 2.2963 - mae: 2.2963 - mse: 9.1748 - val_loss: 2.1511 - val_mae: 2.1511 - val_mse: 7.9014\n",
      "Epoch 113/150\n",
      "2684/2684 [==============================] - 21s 8ms/step - loss: 2.2702 - mae: 2.2702 - mse: 8.8070 - val_loss: 2.1375 - val_mae: 2.1375 - val_mse: 7.9653\n",
      "Epoch 114/150\n",
      "2684/2684 [==============================] - 20s 7ms/step - loss: 2.2335 - mae: 2.2335 - mse: 8.6117 - val_loss: 2.1354 - val_mae: 2.1354 - val_mse: 7.9529\n",
      "Epoch 115/150\n",
      "2684/2684 [==============================] - 20s 8ms/step - loss: 2.2615 - mae: 2.2615 - mse: 8.8069 - val_loss: 2.1542 - val_mae: 2.1542 - val_mse: 8.1862\n",
      "Epoch 116/150\n",
      "2684/2684 [==============================] - 21s 8ms/step - loss: 2.3011 - mae: 2.3011 - mse: 9.3496 - val_loss: 2.1393 - val_mae: 2.1393 - val_mse: 7.8408\n",
      "Epoch 117/150\n",
      "2684/2684 [==============================] - 20s 7ms/step - loss: 2.2678 - mae: 2.2678 - mse: 8.8525 - val_loss: 2.1473 - val_mae: 2.1473 - val_mse: 8.1107\n",
      "Epoch 118/150\n",
      "2684/2684 [==============================] - 19s 7ms/step - loss: 2.2776 - mae: 2.2776 - mse: 9.0539 - val_loss: 2.1344 - val_mae: 2.1344 - val_mse: 7.8664\n",
      "Epoch 119/150\n",
      "2684/2684 [==============================] - 19s 7ms/step - loss: 2.3067 - mae: 2.3067 - mse: 9.1818 - val_loss: 2.2005 - val_mae: 2.2005 - val_mse: 8.6260\n",
      "Epoch 120/150\n",
      "2684/2684 [==============================] - 20s 8ms/step - loss: 2.2719 - mae: 2.2719 - mse: 8.8148 - val_loss: 2.1350 - val_mae: 2.1350 - val_mse: 7.9622\n",
      "Epoch 121/150\n",
      "2684/2684 [==============================] - 19s 7ms/step - loss: 2.2856 - mae: 2.2856 - mse: 9.0028 - val_loss: 2.1595 - val_mae: 2.1595 - val_mse: 7.8833\n",
      "Epoch 122/150\n",
      "2684/2684 [==============================] - 18s 7ms/step - loss: 2.2880 - mae: 2.2880 - mse: 9.0690 - val_loss: 2.1596 - val_mae: 2.1596 - val_mse: 7.9151\n",
      "Epoch 123/150\n",
      "2684/2684 [==============================] - 18s 7ms/step - loss: 2.2594 - mae: 2.2594 - mse: 8.7780 - val_loss: 2.1588 - val_mae: 2.1588 - val_mse: 7.9543\n",
      "Epoch 124/150\n",
      "2684/2684 [==============================] - 19s 7ms/step - loss: 2.2227 - mae: 2.2227 - mse: 8.6814 - val_loss: 2.1370 - val_mae: 2.1370 - val_mse: 7.9447\n",
      "Epoch 125/150\n",
      "2684/2684 [==============================] - 19s 7ms/step - loss: 2.2843 - mae: 2.2843 - mse: 9.0930 - val_loss: 2.1471 - val_mae: 2.1471 - val_mse: 7.8872\n",
      "Epoch 126/150\n",
      "2684/2684 [==============================] - 19s 7ms/step - loss: 2.2816 - mae: 2.2816 - mse: 9.0449 - val_loss: 2.1277 - val_mae: 2.1277 - val_mse: 7.8223\n",
      "Epoch 127/150\n",
      "2684/2684 [==============================] - 18s 7ms/step - loss: 2.2632 - mae: 2.2632 - mse: 8.9590 - val_loss: 2.1416 - val_mae: 2.1416 - val_mse: 8.0625\n",
      "Epoch 128/150\n",
      "2684/2684 [==============================] - 17s 6ms/step - loss: 2.2513 - mae: 2.2513 - mse: 8.6414 - val_loss: 2.1318 - val_mae: 2.1318 - val_mse: 7.8477\n",
      "Epoch 129/150\n",
      "2684/2684 [==============================] - 19s 7ms/step - loss: 2.2656 - mae: 2.2656 - mse: 8.9305 - val_loss: 2.1374 - val_mae: 2.1374 - val_mse: 8.0139\n",
      "Epoch 130/150\n",
      "2684/2684 [==============================] - 19s 7ms/step - loss: 2.2736 - mae: 2.2736 - mse: 8.9451 - val_loss: 2.1756 - val_mae: 2.1756 - val_mse: 7.9084\n",
      "Epoch 131/150\n",
      "2684/2684 [==============================] - 22s 8ms/step - loss: 2.2858 - mae: 2.2858 - mse: 9.0656 - val_loss: 2.1264 - val_mae: 2.1264 - val_mse: 7.8316\n",
      "Epoch 132/150\n",
      "2684/2684 [==============================] - 19s 7ms/step - loss: 2.2929 - mae: 2.2929 - mse: 9.0051 - val_loss: 2.1304 - val_mae: 2.1304 - val_mse: 7.8426\n",
      "Epoch 133/150\n",
      "2684/2684 [==============================] - 19s 7ms/step - loss: 2.3284 - mae: 2.3284 - mse: 9.1995 - val_loss: 2.1327 - val_mae: 2.1327 - val_mse: 7.9657\n",
      "Epoch 134/150\n",
      "2684/2684 [==============================] - 18s 7ms/step - loss: 2.2350 - mae: 2.2350 - mse: 8.7834 - val_loss: 2.1287 - val_mae: 2.1287 - val_mse: 7.8713\n",
      "Epoch 135/150\n",
      "2684/2684 [==============================] - 18s 7ms/step - loss: 2.2267 - mae: 2.2267 - mse: 8.5450 - val_loss: 2.1350 - val_mae: 2.1350 - val_mse: 7.8161\n",
      "Epoch 136/150\n",
      "2684/2684 [==============================] - 18s 7ms/step - loss: 2.2080 - mae: 2.2080 - mse: 8.5534 - val_loss: 2.1396 - val_mae: 2.1396 - val_mse: 8.0331\n",
      "Epoch 137/150\n",
      "2684/2684 [==============================] - 17s 6ms/step - loss: 2.2632 - mae: 2.2632 - mse: 8.7319 - val_loss: 2.2095 - val_mae: 2.2095 - val_mse: 8.0535\n",
      "Epoch 138/150\n",
      "2684/2684 [==============================] - 17s 6ms/step - loss: 2.2627 - mae: 2.2627 - mse: 8.8553 - val_loss: 2.1302 - val_mae: 2.1302 - val_mse: 7.8369\n",
      "Epoch 139/150\n",
      "2684/2684 [==============================] - 16s 6ms/step - loss: 2.2659 - mae: 2.2659 - mse: 9.0183 - val_loss: 2.1309 - val_mae: 2.1309 - val_mse: 7.8015\n",
      "Epoch 140/150\n",
      "2684/2684 [==============================] - 17s 6ms/step - loss: 2.2454 - mae: 2.2454 - mse: 8.7406 - val_loss: 2.1340 - val_mae: 2.1340 - val_mse: 7.9272\n",
      "Epoch 141/150\n",
      "2684/2684 [==============================] - 17s 6ms/step - loss: 2.2634 - mae: 2.2634 - mse: 8.7790 - val_loss: 2.1331 - val_mae: 2.1331 - val_mse: 7.8501\n",
      "Epoch 142/150\n",
      "2684/2684 [==============================] - 16s 6ms/step - loss: 2.2709 - mae: 2.2709 - mse: 8.8738 - val_loss: 2.1982 - val_mae: 2.1982 - val_mse: 8.6098\n",
      "Epoch 143/150\n",
      "2684/2684 [==============================] - 16s 6ms/step - loss: 2.2515 - mae: 2.2515 - mse: 8.8057 - val_loss: 2.1321 - val_mae: 2.1321 - val_mse: 7.9379\n",
      "Epoch 144/150\n",
      "2684/2684 [==============================] - 16s 6ms/step - loss: 2.2747 - mae: 2.2747 - mse: 8.8400 - val_loss: 2.1426 - val_mae: 2.1426 - val_mse: 7.7912\n",
      "Epoch 145/150\n"
     ]
    },
    {
     "name": "stdout",
     "output_type": "stream",
     "text": [
      "2684/2684 [==============================] - 16s 6ms/step - loss: 2.2405 - mae: 2.2405 - mse: 8.6955 - val_loss: 2.1722 - val_mae: 2.1722 - val_mse: 7.9287\n",
      "Epoch 146/150\n",
      "2684/2684 [==============================] - 16s 6ms/step - loss: 2.2631 - mae: 2.2631 - mse: 8.7422 - val_loss: 2.2403 - val_mae: 2.2403 - val_mse: 8.9958\n",
      "Epoch 147/150\n",
      "2684/2684 [==============================] - 16s 6ms/step - loss: 2.2644 - mae: 2.2644 - mse: 8.8214 - val_loss: 2.1316 - val_mae: 2.1316 - val_mse: 7.9283\n",
      "Epoch 148/150\n",
      "2684/2684 [==============================] - 17s 6ms/step - loss: 2.2750 - mae: 2.2750 - mse: 8.9454 - val_loss: 2.1264 - val_mae: 2.1264 - val_mse: 7.8481\n",
      "Epoch 149/150\n",
      "2684/2684 [==============================] - 16s 6ms/step - loss: 2.2806 - mae: 2.2806 - mse: 8.9411 - val_loss: 2.1256 - val_mae: 2.1256 - val_mse: 7.7836\n",
      "Epoch 150/150\n",
      "2684/2684 [==============================] - 17s 6ms/step - loss: 2.2599 - mae: 2.2599 - mse: 8.7219 - val_loss: 2.1339 - val_mae: 2.1339 - val_mse: 7.9919\n"
     ]
    }
   ],
   "source": [
    "\n",
    "\n",
    "# Reshaping for fit\n",
    "# X_train_array = np.reshape(X_train, (X_train.shape[0], 1, X_train.shape[1]))\n",
    "X_train_array = np.reshape(X_train, (X_train.shape[0], X_train.shape[1], 1))\n",
    "y_train_array = np.reshape(y_train, (y_train.shape[0], y_train.shape[1], 1))\n",
    "\n",
    "# model.compile(loss=\"mean_squared_error\", optimizer=\"rmsprop\", metrics=[\"mse\"])\n",
    "opt = keras.optimizers.Adam(learning_rate=1e-5)\n",
    "model.compile(loss=\"mean_absolute_error\", optimizer=opt, metrics=[\"mae\", \"mse\"])\n",
    "#model.summary()\n",
    "\n",
    "build = model.fit(X_train_array, y_train, epochs=150, batch_size=30, validation_split = 0.20, verbose=1, shuffle = True)"
   ]
  },
  {
   "cell_type": "code",
   "execution_count": 123,
   "metadata": {},
   "outputs": [
    {
     "name": "stdout",
     "output_type": "stream",
     "text": [
      "dict_keys(['val_loss', 'val_mae', 'val_mse', 'loss', 'mae', 'mse'])\n"
     ]
    },
    {
     "data": {
      "image/png": "[encoded data removed]",
      "text/plain": [
       "<Figure size 432x288 with 1 Axes>"
      ]
     },
     "metadata": {
      "needs_background": "light"
     },
     "output_type": "display_data"
    },
    {
     "data": {
      "image/png": "[encoded data removed]",
      "text/plain": [
       "<Figure size 432x288 with 1 Axes>"
      ]
     },
     "metadata": {
      "needs_background": "light"
     },
     "output_type": "display_data"
    }
   ],
   "source": [
    "# list all data in history\n",
    "print(build.history.keys())\n",
    "# summarize history for accuracy\n",
    "plt.plot(build.history['mae'])\n",
    "plt.plot(build.history['val_mae'])\n",
    "plt.title('model MAE')\n",
    "plt.ylabel('accuracy')\n",
    "plt.xlabel('epoch')\n",
    "plt.legend(['train', 'test'], loc='upper left')\n",
    "plt.show()\n",
    "# summarize history for loss\n",
    "plt.plot(build.history['loss'])\n",
    "plt.plot(build.history['val_loss'])\n",
    "plt.title('model loss')\n",
    "plt.ylabel('loss')\n",
    "plt.xlabel('epoch')\n",
    "plt.legend(['train', 'test'], loc='upper left')\n",
    "plt.show()"
   ]
  },
  {
   "cell_type": "code",
   "execution_count": null,
   "metadata": {},
   "outputs": [],
   "source": [
    "model.save(\"model.h5\")\n",
    "print(\"Saved model to disk\")"
   ]
  }
 ],
 "metadata": {
  "kernelspec": {
   "display_name": "Python 3",
   "language": "python",
   "name": "python3"
  },
  "language_info": {
   "codemirror_mode": {
    "name": "ipython",
    "version": 3
   },
   "file_extension": ".py",
   "mimetype": "text/x-python",
   "name": "python",
   "nbconvert_exporter": "python",
   "pygments_lexer": "ipython3",
   "version": "3.7.4"
  },
  "widgets": {
   "application/vnd.jupyter.widget-state+json": {
    "state": {},
    "version_major": 2.0,
    "version_minor": 0.0
   }
  }
 },
 "nbformat": 4,
 "nbformat_minor": 2
}

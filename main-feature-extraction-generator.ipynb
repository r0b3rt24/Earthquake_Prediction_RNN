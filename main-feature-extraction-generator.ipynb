{
 "cells": [
  {
   "cell_type": "markdown",
   "metadata": {},
   "source": [
    "## Simple EDA to understand the dataset\n",
    "- whats in our dataset\n",
    "- what do they look like"
   ]
  },
  {
   "cell_type": "code",
   "execution_count": 53,
   "metadata": {},
   "outputs": [],
   "source": [
    "import pandas as pd\n",
    "import numpy as np"
   ]
  },
  {
   "cell_type": "code",
   "execution_count": 4,
   "metadata": {},
   "outputs": [
    {
     "name": "stdout",
     "output_type": "stream",
     "text": [
      "CPU times: user 1min 6s, sys: 13.9 s, total: 1min 20s\n",
      "Wall time: 1min 14s\n"
     ]
    }
   ],
   "source": [
    "%%time\n",
    "train = pd.read_csv('./data/train.csv', dtype={'acoustic_data': np.int16, 'time_to_failure': np.float32})\n",
    "# note: this process took 2min 10scs on my computer"
   ]
  },
  {
   "cell_type": "code",
   "execution_count": 2,
   "metadata": {},
   "outputs": [],
   "source": [
    "float_data = pd.read_csv(\"./data/train.csv\", dtype={\"acoustic_data\": np.float32, \"time_to_failure\": np.float32}).values"
   ]
  },
  {
   "cell_type": "markdown",
   "metadata": {},
   "source": [
    "## Calculate aggregated features"
   ]
  },
  {
   "cell_type": "markdown",
   "metadata": {},
   "source": [
    "## LSTM Using Pytorch"
   ]
  },
  {
   "cell_type": "code",
   "execution_count": 54,
   "metadata": {},
   "outputs": [],
   "source": [
    "import torch\n",
    "import torch.nn as nn\n",
    "from torch.utils.data import Dataset, DataLoader"
   ]
  },
  {
   "cell_type": "code",
   "execution_count": 55,
   "metadata": {},
   "outputs": [],
   "source": [
    "# we only use mean and std here just for testing at the current stage\n",
    "def feature_extraction(time_step):\n",
    "    return np.c_[time_step.mean(axis=1), \n",
    "                 np.percentile(np.abs(time_step), q=[0, 25, 50, 75, 100], axis=1).T,\n",
    "                 time_step.std(axis=1)]"
   ]
  },
  {
   "cell_type": "code",
   "execution_count": 56,
   "metadata": {},
   "outputs": [],
   "source": [
    "def create_X(x, last_index=None, n_steps=150, step_length=1000):\n",
    "    if last_index == None:\n",
    "        last_index=len(x)\n",
    "       \n",
    "    assert last_index - n_steps * step_length >= 0\n",
    "\n",
    "    # Reshaping and approximate standardization with mean 5 and std 3.\n",
    "    temp = (x[(last_index - n_steps * step_length):last_index].reshape(n_steps, -1) - 5 ) / 3\n",
    "    \n",
    "    # Extracts features of sequences of full length 1000, of the last 100 values and finally also \n",
    "    # of the last 10 observations. \n",
    "    return np.c_[feature_extraction(temp),\n",
    "                 feature_extraction(temp[:, -step_length // 10:]),\n",
    "                 feature_extraction(temp[:, -step_length // 100:])]"
   ]
  },
  {
   "cell_type": "code",
   "execution_count": 57,
   "metadata": {},
   "outputs": [],
   "source": [
    "features = create_X(float_data[0:150000]).shape[1]"
   ]
  },
  {
   "cell_type": "code",
   "execution_count": 65,
   "metadata": {},
   "outputs": [],
   "source": [
    "# The generator endlessly selects \"batch_size\" ending positions of sub-time series. For each ending position,\n",
    "# the \"time_to_failure\" serves as target, while the features are created by the function \"create_X\".\n",
    "def generator(data, min_index=0, max_index=None, batch_size=32, n_steps=150, step_length=1000):\n",
    "    if max_index is None:\n",
    "        max_index = len(data) - 1\n",
    "     \n",
    "    while True:\n",
    "        # Pick indices of ending positions\n",
    "        rows = np.random.randint(min_index + n_steps * step_length, max_index, size=batch_size)\n",
    "         \n",
    "        # Initialize feature matrices and targets\n",
    "        samples = np.zeros((batch_size, n_steps, features))\n",
    "        targets = np.zeros(batch_size, )\n",
    "        \n",
    "        for j, row in enumerate(rows):\n",
    "            samples[j] = create_X(data[:, 0], last_index=row, n_steps=n_steps, step_length=step_length)\n",
    "            targets[j] = data[row - 1, 1]\n",
    "        yield samples, targets\n",
    "        \n",
    "batch_size = 32\n",
    "\n",
    "# Position of second (of 16) earthquake. Used to have a clean split\n",
    "# between train and validation\n",
    "second_earthquake = 50085877\n",
    "float_data[second_earthquake, 1]\n",
    "\n",
    "# Initialize generators\n",
    "train_gen = generator(float_data, batch_size=batch_size) # Use this for better score\n",
    "# train_gen = generator(float_data, batch_size=batch_size, min_index=second_earthquake + 1)\n",
    "valid_gen = generator(float_data, batch_size=batch_size, max_index=second_earthquake)"
   ]
  },
  {
   "cell_type": "code",
   "execution_count": 66,
   "metadata": {},
   "outputs": [
    {
     "name": "stdout",
     "output_type": "stream",
     "text": [
      "21\n"
     ]
    }
   ],
   "source": [
    "print(features)"
   ]
  },
  {
   "cell_type": "code",
   "execution_count": 67,
   "metadata": {},
   "outputs": [
    {
     "name": "stdout",
     "output_type": "stream",
     "text": [
      "Model: \"sequential_21\"\n",
      "_________________________________________________________________\n",
      "Layer (type)                 Output Shape              Param #   \n",
      "=================================================================\n",
      "lstm_77 (LSTM)               (None, None, 50)          14400     \n",
      "_________________________________________________________________\n",
      "dropout_77 (Dropout)         (None, None, 50)          0         \n",
      "_________________________________________________________________\n",
      "lstm_78 (LSTM)               (None, None, 50)          20200     \n",
      "_________________________________________________________________\n",
      "dropout_78 (Dropout)         (None, None, 50)          0         \n",
      "_________________________________________________________________\n",
      "lstm_79 (LSTM)               (None, None, 50)          20200     \n",
      "_________________________________________________________________\n",
      "dropout_79 (Dropout)         (None, None, 50)          0         \n",
      "_________________________________________________________________\n",
      "lstm_80 (LSTM)               (None, 50)                20200     \n",
      "_________________________________________________________________\n",
      "dropout_80 (Dropout)         (None, 50)                0         \n",
      "_________________________________________________________________\n",
      "dense_20 (Dense)             (None, 1)                 51        \n",
      "=================================================================\n",
      "Total params: 75,051\n",
      "Trainable params: 75,051\n",
      "Non-trainable params: 0\n",
      "_________________________________________________________________\n",
      "Epoch 1/32\n",
      "1000/1000 [==============================] - 477s 477ms/step - loss: 2.4410 - val_loss: 2.0225\n",
      "Epoch 2/32\n",
      "1000/1000 [==============================] - 377s 377ms/step - loss: 2.2924 - val_loss: 2.4214\n",
      "Epoch 3/32\n",
      "1000/1000 [==============================] - 433s 433ms/step - loss: 2.2301 - val_loss: 1.6591\n",
      "Epoch 4/32\n",
      "1000/1000 [==============================] - 1330s 1s/step - loss: 2.2156 - val_loss: 1.5740\n",
      "Epoch 5/32\n",
      "1000/1000 [==============================] - 313s 313ms/step - loss: 2.1760 - val_loss: 2.2833\n",
      "Epoch 6/32\n",
      "1000/1000 [==============================] - 330s 330ms/step - loss: 2.1536 - val_loss: 2.1949\n",
      "Epoch 7/32\n",
      "1000/1000 [==============================] - 1743s 2s/step - loss: 2.1443 - val_loss: 1.9902\n",
      "Epoch 8/32\n",
      "1000/1000 [==============================] - 310s 310ms/step - loss: 2.1310 - val_loss: 1.8891\n",
      "Epoch 9/32\n",
      "1000/1000 [==============================] - 329s 329ms/step - loss: 2.1398 - val_loss: 2.0281\n",
      "Epoch 10/32\n",
      "1000/1000 [==============================] - 329s 329ms/step - loss: 2.1209 - val_loss: 1.8215\n",
      "Epoch 11/32\n",
      "1000/1000 [==============================] - 505s 505ms/step - loss: 2.1218 - val_loss: 1.7352\n",
      "Epoch 12/32\n",
      "1000/1000 [==============================] - 1491s 1s/step - loss: 2.1121 - val_loss: 2.6296\n",
      "Epoch 13/32\n",
      "1000/1000 [==============================] - 802s 802ms/step - loss: 2.1023 - val_loss: 1.3379\n",
      "Epoch 14/32\n",
      "1000/1000 [==============================] - 398s 398ms/step - loss: 2.0894 - val_loss: 1.6702\n",
      "Epoch 15/32\n",
      "1000/1000 [==============================] - 460s 460ms/step - loss: 2.1042 - val_loss: 2.0075\n",
      "Epoch 16/32\n",
      "1000/1000 [==============================] - 859s 859ms/step - loss: 2.0913 - val_loss: 1.8434\n",
      "Epoch 17/32\n",
      "1000/1000 [==============================] - 833s 833ms/step - loss: 2.0914 - val_loss: 1.6638\n",
      "Epoch 18/32\n",
      "1000/1000 [==============================] - 848s 848ms/step - loss: 2.0818 - val_loss: 1.7967\n",
      "Epoch 19/32\n",
      "1000/1000 [==============================] - 469s 469ms/step - loss: 2.0832 - val_loss: 1.8814\n",
      "Epoch 20/32\n",
      "1000/1000 [==============================] - 305s 305ms/step - loss: 2.0703 - val_loss: 1.7599\n",
      "Epoch 21/32\n",
      "1000/1000 [==============================] - 25316s 25s/step - loss: 2.1099 - val_loss: 1.7267\n",
      "Epoch 22/32\n",
      "1000/1000 [==============================] - 748s 748ms/step - loss: 2.0701 - val_loss: 2.1721\n",
      "Epoch 23/32\n",
      "1000/1000 [==============================] - 754s 754ms/step - loss: 2.0633 - val_loss: 1.4960\n",
      "Epoch 24/32\n",
      "1000/1000 [==============================] - 757s 757ms/step - loss: 2.0735 - val_loss: 1.6760\n",
      "Epoch 25/32\n",
      "1000/1000 [==============================] - 758s 758ms/step - loss: 2.0627 - val_loss: 1.8078\n",
      "Epoch 26/32\n",
      "1000/1000 [==============================] - 5944s 6s/step - loss: 2.0538 - val_loss: 1.8355\n",
      "Epoch 27/32\n",
      "1000/1000 [==============================] - 280s 280ms/step - loss: 2.0445 - val_loss: 1.2866\n",
      "Epoch 28/32\n",
      "1000/1000 [==============================] - 288s 288ms/step - loss: 2.0288 - val_loss: 1.8670\n",
      "Epoch 29/32\n",
      "1000/1000 [==============================] - 296s 296ms/step - loss: 2.0708 - val_loss: 1.5869\n",
      "Epoch 30/32\n",
      "1000/1000 [==============================] - 905s 905ms/step - loss: 2.0605 - val_loss: 1.8006\n",
      "Epoch 31/32\n",
      "1000/1000 [==============================] - 292s 292ms/step - loss: 2.0539 - val_loss: 1.8461\n",
      "Epoch 32/32\n",
      "1000/1000 [==============================] - 291s 291ms/step - loss: 2.0521 - val_loss: 1.7304\n"
     ]
    }
   ],
   "source": [
    "# The LSTM architecture\n",
    "model = Sequential()\n",
    "# First LSTM layer with Dropout regularisation\n",
    "model.add(LSTM(units=50, return_sequences=True, input_shape=(None,features)))\n",
    "model.add(Dropout(0.2))\n",
    "# Second LSTM layer\n",
    "model.add(LSTM(units=50, return_sequences=True))\n",
    "model.add(Dropout(0.2))\n",
    "# Third LSTM layer\n",
    "model.add(LSTM(units=50, return_sequences=True))\n",
    "model.add(Dropout(0.2))\n",
    "# Fourth LSTM layer\n",
    "model.add(LSTM(units=50))\n",
    "model.add(Dropout(0.2))\n",
    "# The output layer\n",
    "model.add(Dense(units=1))\n",
    "\n",
    "# Compiling the RNN\n",
    "\n",
    "\n",
    "model.summary()\n",
    "\n",
    "# Compile and fit model\n",
    "model.compile(optimizer='rmsprop',loss='mae')\n",
    "\n",
    "\n",
    "\n",
    "history = model.fit_generator(train_gen,\n",
    "                              steps_per_epoch=1000,\n",
    "                              epochs=32,\n",
    "                              verbose=1,\n",
    "                              validation_data=valid_gen,\n",
    "                              validation_steps=200\n",
    "                             )\n",
    "\n"
   ]
  },
  {
   "cell_type": "code",
   "execution_count": 69,
   "metadata": {},
   "outputs": [
    {
     "name": "stdout",
     "output_type": "stream",
     "text": [
      "dict_keys(['val_loss', 'loss'])\n"
     ]
    },
    {
     "data": {
      "image/png": "[encoded data removed]",
      "text/plain": [
       "<Figure size 432x288 with 1 Axes>"
      ]
     },
     "metadata": {
      "needs_background": "light"
     },
     "output_type": "display_data"
    }
   ],
   "source": [
    "# list all data in history\n",
    "print(history.history.keys())\n",
    "# summarize history for accuracy\n",
    "\n",
    "# summarize history for loss\n",
    "plt.plot(history.history['loss'])\n",
    "plt.plot(history.history['val_loss'])\n",
    "plt.title('model loss')\n",
    "plt.ylabel('loss')\n",
    "plt.xlabel('epoch')\n",
    "plt.legend(['train', 'test'], loc='upper left')\n",
    "plt.show()"
   ]
  },
  {
   "cell_type": "code",
   "execution_count": null,
   "metadata": {},
   "outputs": [],
   "source": [
    "model.save(\"model.h5\")\n",
    "print(\"Saved model to disk\")"
   ]
  }
 ],
 "metadata": {
  "kernelspec": {
   "display_name": "Python 3",
   "language": "python",
   "name": "python3"
  },
  "language_info": {
   "codemirror_mode": {
    "name": "ipython",
    "version": 3
   },
   "file_extension": ".py",
   "mimetype": "text/x-python",
   "name": "python",
   "nbconvert_exporter": "python",
   "pygments_lexer": "ipython3",
   "version": "3.7.4"
  },
  "widgets": {
   "application/vnd.jupyter.widget-state+json": {
    "state": {},
    "version_major": 2.0,
    "version_minor": 0.0
   }
  }
 },
 "nbformat": 4,
 "nbformat_minor": 2
}

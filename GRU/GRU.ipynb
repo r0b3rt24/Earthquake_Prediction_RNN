{
 "cells": [
  {
   "cell_type": "code",
   "execution_count": 6,
   "metadata": {},
   "outputs": [],
   "source": [
    "import os\n",
    "import torch\n",
    "import pandas as pd\n",
    "import numpy as np\n",
    "import torch.nn as nn\n",
    "from torch.utils.data import Dataset, DataLoader\n",
    "import time"
   ]
  },
  {
   "cell_type": "code",
   "execution_count": 7,
   "metadata": {},
   "outputs": [],
   "source": [
    "raw_data = pd.read_csv('../data/train.csv', dtype={'acoustic_data': np.int16, 'time_to_failure': np.float32})"
   ]
  },
  {
   "cell_type": "code",
   "execution_count": 49,
   "metadata": {},
   "outputs": [
    {
     "name": "stdout",
     "output_type": "stream",
     "text": [
      "training on CPU\n"
     ]
    }
   ],
   "source": [
    "batch_size = 100\n",
    "seq_len = 50\n",
    "is_cuda = torch.cuda.is_available()\n",
    "# If we have a GPU available, we'll set our device to GPU. We'll use this device variable later in our code.\n",
    "if is_cuda:\n",
    "    device = torch.device(\"cuda\")\n",
    "    print(\"training on GPU\")\n",
    "else:\n",
    "    device = torch.device(\"cpu\")\n",
    "    print(\"training on CPU\")"
   ]
  },
  {
   "cell_type": "code",
   "execution_count": 50,
   "metadata": {},
   "outputs": [],
   "source": [
    "class Data(Dataset):\n",
    "    def __init__(self, df, window_size=1000, sequence_len=seq_len):\n",
    "        self.rows = df.shape[0] // (window_size*sequence_len)\n",
    "        self.data, self.labels = [], []\n",
    "        print(self.rows)\n",
    "        print(df.shape[0])\n",
    "        \n",
    "        for s in range(self.rows):\n",
    "            seg = df.iloc[s*window_size*sequence_len: (s+1)*window_size*sequence_len]\n",
    "            x = seg.acoustic_data.values\n",
    "            y = seg.time_to_failure.values[-1]\n",
    "            self.data.append(create_X(x))\n",
    "            self.labels.append(y)\n",
    "            \n",
    "    def __len__(self):\n",
    "        return self.rows\n",
    "    \n",
    "    def __getitem__(self, idx):\n",
    "        return (\n",
    "            torch.from_numpy(self.data[idx].astype(np.float32)),\n",
    "            self.labels[idx]\n",
    "        )\n",
    "\n",
    "\n",
    "def feature_extraction(time_step):\n",
    "    return np.c_[time_step.mean(axis=1), \n",
    "                 np.percentile(np.abs(time_step), q=[0, 25, 50, 75, 100], axis=1).T,\n",
    "                 time_step.std(axis=1)]\n",
    "\n",
    "\n",
    "\n",
    "def create_X(x, window_size=1000, seq_len=seq_len):\n",
    "    X = x.reshape(seq_len, -1)\n",
    "    return np.c_[feature_extraction(X),\n",
    "                 feature_extraction(X[:, -window_size // 10:]),]"
   ]
  },
  {
   "cell_type": "code",
   "execution_count": 63,
   "metadata": {},
   "outputs": [],
   "source": [
    "class LSTM(nn.Module):\n",
    "    def __init__(self, input_size, hidden_size):\n",
    "        super(LSTM, self).__init__()\n",
    "        self.hidden_size = hidden_size\n",
    "        self.lstm = nn.LSTM(input_size, hidden_size, batch_first=True)\n",
    "        self.fc = nn.Linear(hidden_size, 1)\n",
    "    \n",
    "    def forward(self, x):\n",
    "        hidden = (\n",
    "            torch.zeros(1, x.size(0), self.hidden_size),\n",
    "            torch.zeros(1, x.size(0), self.hidden_size)\n",
    "        )\n",
    "        \n",
    "        out, _ = self.lstm(x, hidden)\n",
    "        \n",
    "        out = self.fc(out[:, -1, :])\n",
    "        return out.view(-1)"
   ]
  },
  {
   "cell_type": "code",
   "execution_count": 71,
   "metadata": {},
   "outputs": [
    {
     "name": "stdout",
     "output_type": "stream",
     "text": [
      "[Epoch 0/2, Step 0/100]  loss:  12.4939\n",
      "[Epoch 0/2, Step 10/100]  loss:  37.6687\n",
      "[Epoch 0/2, Step 20/100]  loss:  7.9454\n",
      "[Epoch 0/2, Step 30/100]  loss:  2.5223\n",
      "[Epoch 0/2, Step 40/100]  loss:  82.7776\n",
      "[Epoch 0/2, Step 50/100]  loss:  0.2202\n",
      "[Epoch 0/2, Step 60/100]  loss:  26.1735\n",
      "[Epoch 0/2, Step 70/100]  loss:  0.2183\n",
      "[Epoch 0/2, Step 80/100]  loss:  2.1693\n",
      "[Epoch 0/2, Step 90/100]  loss:  0.2621\n",
      "[Epoch 0/2, Step 100/100]  loss:  21.6298\n",
      "[Epoch 1/2, Step 0/100]  loss:  25.3154\n",
      "[Epoch 1/2, Step 10/100]  loss:  18.1514\n",
      "[Epoch 1/2, Step 20/100]  loss:  12.6669\n",
      "[Epoch 1/2, Step 30/100]  loss:  2.2567\n",
      "[Epoch 1/2, Step 40/100]  loss:  79.9786\n",
      "[Epoch 1/2, Step 50/100]  loss:  0.2169\n",
      "[Epoch 1/2, Step 60/100]  loss:  26.1782\n",
      "[Epoch 1/2, Step 70/100]  loss:  0.2186\n",
      "[Epoch 1/2, Step 80/100]  loss:  2.2413\n",
      "[Epoch 1/2, Step 90/100]  loss:  0.2658\n",
      "[Epoch 1/2, Step 100/100]  loss:  21.2395\n"
     ]
    }
   ],
   "source": [
    "input_size = 14\n",
    "hidden_size = 32\n",
    "model = LSTM(input_size, hidden_size)\n",
    "\n",
    "learning_rate = 0.01\n",
    "criterion = nn.MSELoss()\n",
    "optimizer = torch.optim.Adam(model.parameters(), lr=learning_rate)\n",
    "\n",
    "for epoch in range(2):\n",
    "    for i, (data, labels) in enumerate(train_loader):\n",
    "        outputs = model(data)\n",
    "        loss = criterion(outputs, labels)\n",
    "        optimizer.zero_grad()\n",
    "        loss.backward()\n",
    "        optimizer.step()\n",
    "        if i % 10 == 0:\n",
    "            print(f'[Epoch {epoch}/2, Step {i}/{100}]  loss: {loss.item(): .4f}')"
   ]
  },
  {
   "cell_type": "code",
   "execution_count": 72,
   "metadata": {},
   "outputs": [],
   "source": [
    "def train_LSTM(train_loader, lr = 0.01, hidden_dim = 32, epochs = 2):\n",
    "    input_size = next(iter(train_loader))[0].shape[2]\n",
    "    output_size = 1\n",
    "    n_layers = 2\n",
    "\n",
    "    model = LSTM(input_size, hidden_dim)\n",
    "\n",
    "    model.to(device)\n",
    "\n",
    "    criterion = nn.MSELoss()\n",
    "    optimizer = torch.optim.Adam(model.parameters(), lr=lr)\n",
    "    epoch_times = []\n",
    "\n",
    "    print('=========> Starting training')\n",
    "    for epoch in range(2):\n",
    "        for i, (data, labels) in enumerate(train_loader):\n",
    "            outputs = model(data)\n",
    "            loss = criterion(outputs, labels)\n",
    "            optimizer.zero_grad()\n",
    "            loss.backward()\n",
    "            optimizer.step()\n",
    "            if i % 10 == 0:\n",
    "                print(f'[Epoch {epoch}/2, Step {i}/{100}]  loss: {loss.item(): .4f}')\n",
    "    return model"
   ]
  },
  {
   "cell_type": "code",
   "execution_count": 73,
   "metadata": {},
   "outputs": [
    {
     "name": "stdout",
     "output_type": "stream",
     "text": [
      "=========> Starting training\n",
      "[Epoch 0/2, Step 0/100]  loss:  13.1607\n",
      "[Epoch 0/2, Step 10/100]  loss:  43.8029\n",
      "[Epoch 0/2, Step 20/100]  loss:  5.5193\n",
      "[Epoch 0/2, Step 30/100]  loss:  3.0911\n",
      "[Epoch 0/2, Step 40/100]  loss:  76.9249\n",
      "[Epoch 0/2, Step 50/100]  loss:  0.2624\n",
      "[Epoch 0/2, Step 60/100]  loss:  24.6819\n",
      "[Epoch 0/2, Step 70/100]  loss:  0.2247\n",
      "[Epoch 0/2, Step 80/100]  loss:  2.2035\n",
      "[Epoch 0/2, Step 90/100]  loss:  0.2483\n",
      "[Epoch 0/2, Step 100/100]  loss:  22.0519\n",
      "[Epoch 1/2, Step 0/100]  loss:  25.1078\n",
      "[Epoch 1/2, Step 10/100]  loss:  18.5035\n",
      "[Epoch 1/2, Step 20/100]  loss:  12.3446\n",
      "[Epoch 1/2, Step 30/100]  loss:  2.2972\n",
      "[Epoch 1/2, Step 40/100]  loss:  79.1069\n",
      "[Epoch 1/2, Step 50/100]  loss:  0.2209\n",
      "[Epoch 1/2, Step 60/100]  loss:  26.0201\n",
      "[Epoch 1/2, Step 70/100]  loss:  0.2199\n",
      "[Epoch 1/2, Step 80/100]  loss:  2.2887\n",
      "[Epoch 1/2, Step 90/100]  loss:  0.2528\n",
      "[Epoch 1/2, Step 100/100]  loss:  21.8123\n"
     ]
    }
   ],
   "source": [
    "lstm = train_LSTM(train_loader)"
   ]
  },
  {
   "cell_type": "code",
   "execution_count": 83,
   "metadata": {},
   "outputs": [],
   "source": [
    "class GRU(nn.Module):\n",
    "    \n",
    "    def __init__(self, D_in, H, D_out, n_layers, dropout = 0.2):\n",
    "        super(GRU, self).__init__()\n",
    "        self.hidden_size = H\n",
    "        self.n_layers = n_layers\n",
    "        print(\"hidden_size\" + str(H))\n",
    "        self.gru = nn.GRU(input_size = D_in, hidden_size = H,\n",
    "                          num_layers = n_layers, dropout=dropout, batch_first=True)\n",
    "        self.fc = nn.Linear(H, D_out)\n",
    "        self.relu = nn.ReLU()\n",
    "    \n",
    "    def forward(self, x, h):\n",
    "        out, h = self.gru(x,h)\n",
    "        out = self.fc(self.relu(out[:,-1]))\n",
    "        return out, h\n",
    "\n",
    "    def init_hidden(self, batch_size):\n",
    "        print(batch_size)\n",
    "        is_cuda = torch.cuda.is_available()\n",
    "        if is_cuda:\n",
    "            device = torch.device(\"cuda\")\n",
    "        else:\n",
    "            device = torch.device(\"cpu\")\n",
    "        weight = next(self.parameters()).data\n",
    "        hidden = weight.new(self.n_layers, batch_size, self.hidden_size).zero_().to(device)\n",
    "        print(hidden.shape)\n",
    "        return hidden"
   ]
  },
  {
   "cell_type": "code",
   "execution_count": 87,
   "metadata": {},
   "outputs": [],
   "source": [
    "def train_model(train_loader, lr = 0.01, hidden_dim = 256, epochs = 10):\n",
    "    input_size = next(iter(train_loader))[0].shape[2]\n",
    "    output_size = 1\n",
    "    n_layers = 2\n",
    "    model = GRU(input_size, hidden_dim, output_size, n_layers)\n",
    "    \n",
    "    h = model.init_hidden(batch_size)\n",
    "    model.to(device)\n",
    "\n",
    "    criterion = nn.MSELoss()\n",
    "    optimizer = torch.optim.Adam(model.parameters(), lr=lr)\n",
    "    epoch_times = []\n",
    "\n",
    "    print('=========> Starting training')\n",
    "    for epoch in range(2):\n",
    "        for i, (data, labels) in enumerate(train_loader):\n",
    "            outputs, h = model(data, h)\n",
    "            loss = criterion(outputs, labels)\n",
    "            optimizer.zero_grad()\n",
    "            loss.backward(retain_graph=True)\n",
    "            optimizer.step()\n",
    "            if i % 10 == 0:\n",
    "                print(f'[Epoch {epoch+1}/2, Step {i}/{100}]  loss: {loss.item(): .4f}')\n",
    "    return model"
   ]
  },
  {
   "cell_type": "code",
   "execution_count": 75,
   "metadata": {},
   "outputs": [],
   "source": [
    "def evaluate(model, data_loader):\n",
    "    h = model.init_hidden(batch_size)\n",
    "    out = []\n",
    "    targets = []\n",
    "    model.eval()\n",
    "    diff = []\n",
    "    with torch.no_grad():\n",
    "        for x, y in data_loader:\n",
    "            h = h.data\n",
    "            out, h = model(x.to(device).float(), h)\n",
    "            out = out.reshape(-1)\n",
    "            print(out.shape)\n",
    "            diff.append(y - out)\n",
    "            \n",
    "    print(diff[0])\n",
    "    MAE = abs(sum(diff))/len(diff)\n",
    "    \n",
    "    print(\"MAE: {}%\".format(MAE*100))\n",
    "    return MAE"
   ]
  },
  {
   "cell_type": "code",
   "execution_count": 22,
   "metadata": {},
   "outputs": [],
   "source": [
    "mask = np.random.rand(len(raw_data)) < 0.8\n",
    "train = raw_data[mask]\n",
    "test = raw_data[~mask]"
   ]
  },
  {
   "cell_type": "code",
   "execution_count": 61,
   "metadata": {},
   "outputs": [
    {
     "name": "stdout",
     "output_type": "stream",
     "text": [
      "10066\n",
      "503316240\n",
      "2516\n",
      "125829240\n",
      "100\n"
     ]
    }
   ],
   "source": [
    "train_set = Data(train)\n",
    "test_set = Data(test)\n",
    "print(batch_size)\n",
    "train_loader = DataLoader(train_set,shuffle=False, batch_size=100)\n",
    "test_loader = DataLoader(test_set, shuffle=False, batch_size=100)"
   ]
  },
  {
   "cell_type": "code",
   "execution_count": 62,
   "metadata": {},
   "outputs": [
    {
     "data": {
      "text/plain": [
       "torch.Size([100, 50, 14])"
      ]
     },
     "execution_count": 62,
     "metadata": {},
     "output_type": "execute_result"
    }
   ],
   "source": [
    "next(iter(train_loader))[0].size()"
   ]
  },
  {
   "cell_type": "code",
   "execution_count": null,
   "metadata": {},
   "outputs": [
    {
     "name": "stdout",
     "output_type": "stream",
     "text": [
      "hidden_size256\n",
      "100\n",
      "torch.Size([2, 100, 256])\n",
      "=========> Starting training\n",
      "[Epoch 0/2, Step 0/100]  loss:  14.1864\n",
      "[Epoch 0/2, Step 10/100]  loss:  9.1882\n",
      "[Epoch 0/2, Step 20/100]  loss:  9.0660\n",
      "[Epoch 0/2, Step 30/100]  loss:  3.9200\n"
     ]
    }
   ],
   "source": [
    "model = train_model(train_loader)"
   ]
  },
  {
   "cell_type": "code",
   "execution_count": null,
   "metadata": {},
   "outputs": [],
   "source": [
    "gru_MAE = evaluate(model, test_loader)"
   ]
  },
  {
   "cell_type": "code",
   "execution_count": null,
   "metadata": {},
   "outputs": [],
   "source": []
  }
 ],
 "metadata": {
  "kernelspec": {
   "display_name": "Python 3",
   "language": "python",
   "name": "python3"
  },
  "language_info": {
   "codemirror_mode": {
    "name": "ipython",
    "version": 3
   },
   "file_extension": ".py",
   "mimetype": "text/x-python",
   "name": "python",
   "nbconvert_exporter": "python",
   "pygments_lexer": "ipython3",
   "version": "3.7.1"
  }
 },
 "nbformat": 4,
 "nbformat_minor": 4
}

{
 "cells": [
  {
   "cell_type": "code",
   "execution_count": 1,
   "metadata": {},
   "outputs": [],
   "source": [
    "import os\n",
    "import torch\n",
    "import pandas as pd\n",
    "import numpy as np\n",
    "import torch.nn as nn\n",
    "from torch.utils.data import Dataset, DataLoader\n",
    "import time"
   ]
  },
  {
   "cell_type": "code",
   "execution_count": 3,
   "metadata": {},
   "outputs": [],
   "source": [
    "raw_data = pd.read_csv('../data/train.csv', dtype={'acoustic_data': np.int16, 'time_to_failure': np.float32})"
   ]
  },
  {
   "cell_type": "code",
   "execution_count": 4,
   "metadata": {},
   "outputs": [
    {
     "name": "stdout",
     "output_type": "stream",
     "text": [
      "training on CPU\n"
     ]
    }
   ],
   "source": [
    "batch_size = 1024\n",
    "is_cuda = torch.cuda.is_available()\n",
    "# If we have a GPU available, we'll set our device to GPU. We'll use this device variable later in our code.\n",
    "if is_cuda:\n",
    "    device = torch.device(\"cuda\")\n",
    "    print(\"training on GPU\")\n",
    "else:\n",
    "    device = torch.device(\"cpu\")\n",
    "    print(\"training on CPU\")"
   ]
  },
  {
   "cell_type": "code",
   "execution_count": 5,
   "metadata": {},
   "outputs": [],
   "source": [
    "class Data(Dataset):\n",
    "    def __init__(self, df, window_size=1000, sequence_len=batch_size):\n",
    "        self.rows = df.shape[0] // (window_size*sequence_len)\n",
    "        self.data, self.labels = [], []\n",
    "        \n",
    "        for s in range(self.rows):\n",
    "            seg = df.iloc[s*window_size*sequence_len: (s+1)*window_size*sequence_len]\n",
    "            x = seg.acoustic_data.values\n",
    "            y = seg.time_to_failure.values[-1]\n",
    "            self.data.append(create_X(x))\n",
    "            self.labels.append(y)\n",
    "            \n",
    "    def __len__(self):\n",
    "        return self.rows\n",
    "    \n",
    "    def __getitem__(self, idx):\n",
    "        return (\n",
    "            torch.from_numpy(self.data[idx].astype(np.float32)),\n",
    "            self.labels[idx]\n",
    "        )\n",
    "\n",
    "\n",
    "def feature_extraction(time_step):\n",
    "    return np.c_[time_step.mean(axis=1), \n",
    "                 np.percentile(np.abs(time_step), q=[0, 25, 50, 75, 100], axis=1).T,\n",
    "                 time_step.std(axis=1)]\n",
    "\n",
    "\n",
    "\n",
    "def create_X(x, window_size=1000, seq_len=batch_size):\n",
    "    X = x.reshape(seq_len, -1)\n",
    "    return np.c_[feature_extraction(X),\n",
    "                 feature_extraction(X[:, -window_size // 10:]),]"
   ]
  },
  {
   "cell_type": "code",
   "execution_count": 6,
   "metadata": {},
   "outputs": [],
   "source": [
    "class GRU(nn.Module):\n",
    "    \n",
    "    def __init__(self, D_in, H, D_out, n_layers, dropout = 0.2):\n",
    "        super(GRU, self).__init__()\n",
    "        self.hidden_size = H\n",
    "        self.n_layers = n_layers\n",
    "\n",
    "        self.gru = nn.GRU(input_size = D_in, hidden_size = H, num_layers = n_layers, dropout=dropout)\n",
    "        self.fc = nn.Linear(H, D_out)\n",
    "        self.relu = nn.ReLU()\n",
    "    \n",
    "    def forward(self, x, h):\n",
    "        out, h = self.gru(x,h)\n",
    "        out = self.fc(self.relu(out[:,-1]))\n",
    "        return out, h\n",
    "\n",
    "    def init_hidden(self, batch_size):\n",
    "        is_cuda = torch.cuda.is_available()\n",
    "        if is_cuda:\n",
    "            device = torch.device(\"cuda\")\n",
    "        else:\n",
    "            device = torch.device(\"cpu\")\n",
    "        weight = next(self.parameters()).data\n",
    "        hidden = weight.new(self.n_layers, batch_size, self.hidden_size).zero_().to(device)\n",
    "        print(hidden.shape)\n",
    "        return hidden"
   ]
  },
  {
   "cell_type": "code",
   "execution_count": 14,
   "metadata": {},
   "outputs": [],
   "source": [
    "def train_model(train_loader, lr = 0.01, hidden_dim = 256, epochs = 10):\n",
    "    input_size = next(iter(train_loader))[0].shape[2]\n",
    "    output_size = 1\n",
    "    n_layers = 2\n",
    "\n",
    "    model = GRU(input_size, hidden_dim, output_size, n_layers)\n",
    "\n",
    "    model.to(device)\n",
    "\n",
    "    criterion = nn.MSELoss()\n",
    "    optimizer = torch.optim.Adam(model.parameters(), lr=lr)\n",
    "    epoch_times = []\n",
    "\n",
    "    print('=========> Starting training')\n",
    "    for epoch in range(1, epochs + 1):\n",
    "        start_time = time.time()\n",
    "        h = model.init_hidden(batch_size)\n",
    "        avg_loss = 0.\n",
    "        counter = 0\n",
    "\n",
    "        for x, label in train_loader:\n",
    "            counter += 1\n",
    "            h = h.data\n",
    "            model.zero_grad()\n",
    "\n",
    "            out, h = model(x.to(device).float(), h)\n",
    "            loss = criterion(out, label.to(device).float())\n",
    "\n",
    "            loss.backward()\n",
    "            optimizer.step()\n",
    "            avg_loss += loss.item()\n",
    "            if counter % 100 == 0:\n",
    "                print(\"Epoch {}......Step: {}/{}....... Average Loss for Epoch: {}\".format(epoch, counter, len(train_loader), avg_loss/counter))\n",
    "\n",
    "        end_time = time.time()\n",
    "\n",
    "        print(\"Epoch {}/{} Done, Total Loss: {}\".format(epoch, epochs, avg_loss/len(train_loader)))\n",
    "        print(\"Total Time Elapsed: {} seconds\".format(str(start_time-start_time)))\n",
    "        epoch_times.append(start_time-start_time)\n",
    "        \n",
    "    print(\"Total Training Time: {} seconds\".format(str(sum(epoch_times))))\n",
    "    return model"
   ]
  },
  {
   "cell_type": "code",
   "execution_count": 1,
   "metadata": {},
   "outputs": [],
   "source": [
    "def evaluate(model, data_loader):\n",
    "    h = model.init_hidden(batch_size)\n",
    "    out = []\n",
    "    targets = []\n",
    "    model.eval()\n",
    "    diff = []\n",
    "    with torch.no_grad():\n",
    "        for x, y in data_loader:\n",
    "            h = h.data\n",
    "            out, h = model(x.to(device).float(), h)\n",
    "            out = out.reshape(-1)\n",
    "            print(out.shape)\n",
    "            diff.append(y - out)\n",
    "            \n",
    "    print(diff[0])\n",
    "    MAE = abs(sum(diff))/len(diff)\n",
    "    \n",
    "    print(\"MAE: {}%\".format(MAE*100))\n",
    "    return MAE"
   ]
  },
  {
   "cell_type": "code",
   "execution_count": 26,
   "metadata": {},
   "outputs": [],
   "source": [
    "mask = np.random.rand(len(raw_data)) < 0.8\n",
    "train = raw_data[mask]\n",
    "test = raw_data[~mask]\n",
    "\n",
    "train_set = Data(train)\n",
    "test_set = Data(test)\n",
    "train_loader = DataLoader(train_set,shuffle=False, batch_size=batch_size)\n",
    "test_loader = DataLoader(test_set, shuffle=False, batch_size=batch_size)"
   ]
  },
  {
   "cell_type": "code",
   "execution_count": 15,
   "metadata": {},
   "outputs": [
    {
     "name": "stdout",
     "output_type": "stream",
     "text": [
      "=========> Starting training\n",
      "torch.Size([2, 1024, 256])\n",
      "Epoch 1/10 Done, Total Loss: 45.798465728759766\n",
      "Total Time Elapsed: 0.0 seconds\n",
      "torch.Size([2, 1024, 256])\n",
      "Epoch 2/10 Done, Total Loss: 19.654050827026367\n",
      "Total Time Elapsed: 0.0 seconds\n",
      "torch.Size([2, 1024, 256])\n",
      "Epoch 3/10 Done, Total Loss: 13.838205337524414\n",
      "Total Time Elapsed: 0.0 seconds\n",
      "torch.Size([2, 1024, 256])\n",
      "Epoch 4/10 Done, Total Loss: 13.35927677154541\n",
      "Total Time Elapsed: 0.0 seconds\n",
      "torch.Size([2, 1024, 256])\n",
      "Epoch 5/10 Done, Total Loss: 14.092580795288086\n",
      "Total Time Elapsed: 0.0 seconds\n",
      "torch.Size([2, 1024, 256])\n",
      "Epoch 6/10 Done, Total Loss: 14.69754695892334\n",
      "Total Time Elapsed: 0.0 seconds\n",
      "torch.Size([2, 1024, 256])\n",
      "Epoch 7/10 Done, Total Loss: 14.61975383758545\n",
      "Total Time Elapsed: 0.0 seconds\n",
      "torch.Size([2, 1024, 256])\n",
      "Epoch 8/10 Done, Total Loss: 14.003288269042969\n",
      "Total Time Elapsed: 0.0 seconds\n",
      "torch.Size([2, 1024, 256])\n",
      "Epoch 9/10 Done, Total Loss: 13.516972541809082\n",
      "Total Time Elapsed: 0.0 seconds\n",
      "torch.Size([2, 1024, 256])\n",
      "Epoch 10/10 Done, Total Loss: 13.312551498413086\n",
      "Total Time Elapsed: 0.0 seconds\n",
      "Total Training Time: 0.0 seconds\n"
     ]
    }
   ],
   "source": [
    "model = train_model(train_loader)"
   ]
  },
  {
   "cell_type": "code",
   "execution_count": 2,
   "metadata": {},
   "outputs": [
    {
     "ename": "NameError",
     "evalue": "name 'model' is not defined",
     "output_type": "error",
     "traceback": [
      "\u001b[0;31m---------------------------------------------------------------------------\u001b[0m",
      "\u001b[0;31mNameError\u001b[0m                                 Traceback (most recent call last)",
      "\u001b[0;32m<ipython-input-2-94031cf46aee>\u001b[0m in \u001b[0;36m<module>\u001b[0;34m\u001b[0m\n\u001b[0;32m----> 1\u001b[0;31m \u001b[0mgru_MAE\u001b[0m \u001b[0;34m=\u001b[0m \u001b[0mevaluate\u001b[0m\u001b[0;34m(\u001b[0m\u001b[0mmodel\u001b[0m\u001b[0;34m,\u001b[0m \u001b[0mtest_loader\u001b[0m\u001b[0;34m)\u001b[0m\u001b[0;34m\u001b[0m\u001b[0;34m\u001b[0m\u001b[0m\n\u001b[0m",
      "\u001b[0;31mNameError\u001b[0m: name 'model' is not defined"
     ]
    }
   ],
   "source": [
    "gru_MAE = evaluate(model, test_loader)"
   ]
  },
  {
   "cell_type": "code",
   "execution_count": null,
   "metadata": {},
   "outputs": [],
   "source": []
  }
 ],
 "metadata": {
  "kernelspec": {
   "display_name": "Python 3",
   "language": "python",
   "name": "python3"
  },
  "language_info": {
   "codemirror_mode": {
    "name": "ipython",
    "version": 3
   },
   "file_extension": ".py",
   "mimetype": "text/x-python",
   "name": "python",
   "nbconvert_exporter": "python",
   "pygments_lexer": "ipython3",
   "version": "3.7.1"
  }
 },
 "nbformat": 4,
 "nbformat_minor": 4
}

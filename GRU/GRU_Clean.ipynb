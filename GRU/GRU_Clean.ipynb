{
 "cells": [
  {
   "cell_type": "code",
   "execution_count": 1,
   "metadata": {},
   "outputs": [],
   "source": [
    "import os\n",
    "import torch\n",
    "import pandas as pd\n",
    "import numpy as np\n",
    "import torch.nn as nn\n",
    "from torch.utils.data import Dataset, DataLoader\n",
    "import time"
   ]
  },
  {
   "cell_type": "code",
   "execution_count": 2,
   "metadata": {},
   "outputs": [],
   "source": [
    "raw_data = pd.read_csv('../data/train.csv', dtype={'acoustic_data': np.int16, 'time_to_failure': np.float32})"
   ]
  },
  {
   "cell_type": "code",
   "execution_count": 34,
   "metadata": {},
   "outputs": [
    {
     "name": "stdout",
     "output_type": "stream",
     "text": [
      "training on CPU\n"
     ]
    }
   ],
   "source": [
    "batch_size = 150\n",
    "seq_len = 50\n",
    "dropout = 0.2\n",
    "learning_rate = 0.001\n",
    "\n",
    "is_cuda = torch.cuda.is_available()\n",
    "# If we have a GPU available, we'll set our device to GPU. We'll use this device variable later in our code.\n",
    "if is_cuda:\n",
    "    device = torch.device(\"cuda\")\n",
    "    print(\"training on GPU\")\n",
    "else:\n",
    "    device = torch.device(\"cpu\")\n",
    "    print(\"training on CPU\")"
   ]
  },
  {
   "cell_type": "code",
   "execution_count": 28,
   "metadata": {},
   "outputs": [],
   "source": [
    "class Data(Dataset):\n",
    "    def __init__(self, df, window_size=1000, sequence_len=seq_len):\n",
    "        self.rows = df.shape[0] // (window_size*sequence_len)\n",
    "        self.data, self.labels = [], []\n",
    "        print(self.rows)\n",
    "        print(df.shape[0])\n",
    "        \n",
    "        for s in range(self.rows):\n",
    "            seg = df.iloc[s*window_size*sequence_len: (s+1)*window_size*sequence_len]\n",
    "            x = seg.acoustic_data.values\n",
    "            y = seg.time_to_failure.values[-1]\n",
    "            self.data.append(create_X(x))\n",
    "            self.labels.append(y)\n",
    "            \n",
    "    def __len__(self):\n",
    "        return self.rows\n",
    "    \n",
    "    def __getitem__(self, idx):\n",
    "        return (\n",
    "            torch.from_numpy(self.data[idx].astype(np.float32)),\n",
    "            self.labels[idx]\n",
    "        )\n",
    "\n",
    "\n",
    "def feature_extraction(time_step):\n",
    "    return np.c_[time_step.mean(axis=1), \n",
    "                 np.percentile(np.abs(time_step), q=[0, 25, 50, 75, 100], axis=1).T,\n",
    "                 time_step.std(axis=1)]\n",
    "\n",
    "\n",
    "\n",
    "def create_X(x, window_size=1000, seq_len=seq_len):\n",
    "    X = x.reshape(seq_len, -1)\n",
    "    return np.c_[feature_extraction(X),\n",
    "                 feature_extraction(X[:, -window_size // 10:]),]"
   ]
  },
  {
   "cell_type": "code",
   "execution_count": 5,
   "metadata": {},
   "outputs": [],
   "source": [
    "class GRU(nn.Module):\n",
    "    \n",
    "    def __init__(self, D_in, H, D_out, n_layers, dropout = 0.2):\n",
    "        super(GRU, self).__init__()\n",
    "        self.hidden_size = H\n",
    "        self.n_layers = n_layers\n",
    "        print(\"hidden_size\" + str(H))\n",
    "        self.gru = nn.GRU(input_size = D_in, hidden_size = H,\n",
    "                          num_layers = n_layers, dropout=dropout, batch_first=True)\n",
    "        self.fc = nn.Linear(H, D_out)\n",
    "        self.relu = nn.ReLU()\n",
    "    \n",
    "    def forward(self, x, h):\n",
    "        out, h = self.gru(x,h)\n",
    "        out = self.fc(self.relu(out[:,-1]))\n",
    "        return out, h\n",
    "\n",
    "    def init_hidden(self, batch_size):\n",
    "        print(batch_size)\n",
    "        is_cuda = torch.cuda.is_available()\n",
    "        if is_cuda:\n",
    "            device = torch.device(\"cuda\")\n",
    "        else:\n",
    "            device = torch.device(\"cpu\")\n",
    "        weight = next(self.parameters()).data\n",
    "        hidden = weight.new(self.n_layers, batch_size, self.hidden_size).zero_().to(device)\n",
    "        print(hidden.shape)\n",
    "        return hidden"
   ]
  },
  {
   "cell_type": "code",
   "execution_count": 35,
   "metadata": {},
   "outputs": [],
   "source": [
    "def train_model(train_loader, lr = 0.01, hidden_dim = 256, epochs = 10):\n",
    "    input_size = next(iter(train_loader))[0].shape[2]\n",
    "    output_size = 1\n",
    "    n_layers = 2\n",
    "    model = GRU(input_size, hidden_dim, output_size, n_layers)\n",
    "    \n",
    "    h = model.init_hidden(batch_size)\n",
    "    model.to(device)\n",
    "\n",
    "    criterion = nn.MSELoss()\n",
    "    optimizer = torch.optim.Adam(model.parameters(), lr=lr)\n",
    "    epoch_times = []\n",
    "\n",
    "    print('=========> Starting training')\n",
    "    history = []\n",
    "    for epoch in range(epochs):\n",
    "        for i, (data, labels) in enumerate(train_loader):\n",
    "            if data.shape[0] != batch_size:\n",
    "                continue\n",
    "            outputs, h = model(data, h)\n",
    "            loss = criterion(outputs, labels.view(-1,1))\n",
    "            optimizer.zero_grad()\n",
    "            loss.backward(retain_graph=True)\n",
    "            optimizer.step()\n",
    "            if i % 10 == 0:\n",
    "                print(f'[Epoch {epoch+1}/2, Step {i}/{train_loader.__len__()}]  loss: {loss.item(): .4f}')\n",
    "        history.append((epoch+1,loss.item()))\n",
    "    return model, history"
   ]
  },
  {
   "cell_type": "code",
   "execution_count": 7,
   "metadata": {},
   "outputs": [],
   "source": [
    "def evaluate(model, data_loader):\n",
    "    h = model.init_hidden(batch_size)\n",
    "    out = []\n",
    "    targets = []\n",
    "    model.eval()\n",
    "    diff = []\n",
    "    with torch.no_grad():\n",
    "        for x, y in data_loader:\n",
    "            h = h.data\n",
    "            out, h = model(x.to(device).float(), h)\n",
    "            out = out.reshape(-1)\n",
    "            print(out.shape)\n",
    "            diff.append(y - out)\n",
    "            \n",
    "    print(diff[0])\n",
    "    MAE = abs(sum(diff))/len(diff)\n",
    "    \n",
    "    print(\"MAE: {}%\".format(MAE*100))\n",
    "    return MAE"
   ]
  },
  {
   "cell_type": "code",
   "execution_count": 9,
   "metadata": {},
   "outputs": [],
   "source": [
    "def loss_curve(history):\n",
    "    x_val = [x[0] for x in history]\n",
    "    y_val = [x[1] for x in history]\n",
    "\n",
    "    plt.title('model MAE')\n",
    "    plt.ylabel('LOSS')\n",
    "    plt.xlabel('epoch')\n",
    "\n",
    "    plt.plot(x_val,y_val)\n",
    "    plt.plot(x_val,y_val,'or')\n",
    "    plt.show()\n",
    "    plt.savefig('GRU_loss.png')"
   ]
  },
  {
   "cell_type": "code",
   "execution_count": 10,
   "metadata": {},
   "outputs": [],
   "source": [
    "mask = np.random.rand(len(raw_data)) < 0.8\n",
    "train = raw_data[mask]\n",
    "test = raw_data[~mask]"
   ]
  },
  {
   "cell_type": "code",
   "execution_count": 25,
   "metadata": {},
   "outputs": [
    {
     "name": "stdout",
     "output_type": "stream",
     "text": [
      "10066\n",
      "503311929\n",
      "2516\n",
      "125833551\n"
     ]
    }
   ],
   "source": [
    "train_set = Data(train)\n",
    "test_set = Data(test)\n",
    "train_loader = DataLoader(train_set,shuffle=False, batch_size=batch_size)\n",
    "test_loader = DataLoader(test_set, shuffle=False, batch_size=batch_size) "
   ]
  },
  {
   "cell_type": "code",
   "execution_count": 36,
   "metadata": {},
   "outputs": [
    {
     "name": "stdout",
     "output_type": "stream",
     "text": [
      "hidden_size256\n",
      "150\n",
      "torch.Size([2, 150, 256])\n",
      "=========> Starting training\n"
     ]
    }
   ],
   "source": [
    "model,history = train_model(train_loader)"
   ]
  },
  {
   "cell_type": "code",
   "execution_count": null,
   "metadata": {},
   "outputs": [],
   "source": [
    "#save the model\n",
    "save_path = None # change this to your desired path\n",
    "torch.save(model, save_path)"
   ]
  },
  {
   "cell_type": "code",
   "execution_count": null,
   "metadata": {},
   "outputs": [],
   "source": [
    "gru_MAE = evaluate(model, test_loader)"
   ]
  },
  {
   "cell_type": "code",
   "execution_count": null,
   "metadata": {},
   "outputs": [],
   "source": [
    "import matplotlib. pyplot as plt \n",
    "loss_curve(history)"
   ]
  },
  {
   "cell_type": "markdown",
   "metadata": {},
   "source": [
    "## generate submission"
   ]
  },
  {
   "cell_type": "code",
   "execution_count": 58,
   "metadata": {},
   "outputs": [
    {
     "name": "stderr",
     "output_type": "stream",
     "text": [
      "\n",
      "  0%|          | 0/2624 [00:00<?, ?it/s]\u001b[A\n",
      "\u001b[A"
     ]
    },
    {
     "name": "stdout",
     "output_type": "stream",
     "text": [
      "1\n",
      "torch.Size([2, 1, 256])\n",
      "lol\n",
      "tensor([[4.1193]], grad_fn=<AddmmBackward>)\n"
     ]
    }
   ],
   "source": [
    "from tqdm import tqdm\n",
    "\n",
    "output = []\n",
    "submission = pd.read_csv('../data/sample_submission.csv', index_col='seg_id', dtype={\"time_to_failure\": np.float32})\n",
    "model.eval()\n",
    "h = model.init_hidden(1)\n",
    "for i, seg_id in enumerate(tqdm(submission.index)):\n",
    "  #  print(i)\n",
    "    seg = pd.read_csv('../data/test/' + seg_id + '.csv')\n",
    "    raw_x = seg['acoustic_data'].values\n",
    "    X = create_X(raw_x)\n",
    "    X = torch.from_numpy(X).float()\n",
    "    out,h = model(X.view(1,seq_len,14),h)  # 14 is the number of features\n",
    "    print(out.data[0][0].item())\n",
    "    output.append(out.data[0][0].item())\n",
    "submission['time_to_failure'] = output\n",
    "submission.to_csv('submission-GRU.csv')"
   ]
  },
  {
   "cell_type": "code",
   "execution_count": null,
   "metadata": {},
   "outputs": [],
   "source": []
  }
 ],
 "metadata": {
  "kernelspec": {
   "display_name": "Python 3",
   "language": "python",
   "name": "python3"
  },
  "language_info": {
   "codemirror_mode": {
    "name": "ipython",
    "version": 3
   },
   "file_extension": ".py",
   "mimetype": "text/x-python",
   "name": "python",
   "nbconvert_exporter": "python",
   "pygments_lexer": "ipython3",
   "version": "3.7.4"
  }
 },
 "nbformat": 4,
 "nbformat_minor": 4
}
